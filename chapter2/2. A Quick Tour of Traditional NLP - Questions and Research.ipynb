{
 "cells": [
  {
   "cell_type": "markdown",
   "id": "demonstrated-shareware",
   "metadata": {},
   "source": [
    "# 1. Introduction"
   ]
  },
  {
   "cell_type": "markdown",
   "id": "solid-estate",
   "metadata": {},
   "source": [
    "### To solve:\n",
    "\t- What is constituent parser\n",
    "    - What is a dependency parser\n",
    "\t"
   ]
  },
  {
   "cell_type": "markdown",
   "id": "enhanced-station",
   "metadata": {},
   "source": [
    "### To research: \n",
    "\t- Feature Engineering for Machine Learning - Zheng and Casari, 2016"
   ]
  }
 ],
 "metadata": {
  "kernelspec": {
   "display_name": "Python 3",
   "language": "python",
   "name": "python3"
  },
  "language_info": {
   "codemirror_mode": {
    "name": "ipython",
    "version": 3
   },
   "file_extension": ".py",
   "mimetype": "text/x-python",
   "name": "python",
   "nbconvert_exporter": "python",
   "pygments_lexer": "ipython3",
   "version": "3.8.5"
  }
 },
 "nbformat": 4,
 "nbformat_minor": 5
}
