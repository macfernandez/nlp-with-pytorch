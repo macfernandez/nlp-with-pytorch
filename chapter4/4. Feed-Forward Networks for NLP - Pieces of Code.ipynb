{
 "cells": [
  {
   "cell_type": "markdown",
   "id": "cathedral-stanley",
   "metadata": {},
   "source": [
    "### Hyperparameters"
   ]
  },
  {
   "cell_type": "markdown",
   "id": "corresponding-funds",
   "metadata": {},
   "source": [
    "kernel_size = width of the kernel matrix (controla la cantidad de informacion por convolucion. \n",
    "Agrandado el tamano del kernel se achica el tamano del output, por que?"
   ]
  },
  {
   "cell_type": "markdown",
   "id": "settled-supply",
   "metadata": {},
   "source": [
    "stride = step size entre convoluciones. Si stride == kernel size, las computaciones del kernel no se overlappean, si el stride == 1, las computaciones se overlapean al maximo.\n",
    "Esto afecta el tamano que se le da al output tensor, por que? Por ejemplo, si se agrande el stride, el kernel hace pasos mas grandes y resulta en una matrix de salida mas peque;a. esto es util para hacer subsampling del input de manera mas esparsa, por que?"
   ]
  },
  {
   "cell_type": "markdown",
   "id": "interstate-anthropology",
   "metadata": {},
   "source": [
    "padding = para que el stride y el kernel size no terminen achicando el feature map por side effect, el tensor input se agranda artificialmente usando padding dependiendo de las dimensiones, por ejemplo, en 1d, se alarga. El padding se hace apendiendo y prependiendo ? 0s.\n",
    "el kernel va a terminar haciendo mas computaciones sobre estos ceros, pero no se va a perder informacion."
   ]
  },
  {
   "cell_type": "markdown",
   "id": "emerging-broadway",
   "metadata": {},
   "source": [
    "dilation = controla como el kernel es aplicado al input. es decir, el espacio de no computacion que queda entre los elementos del kernel. \n",
    "como afecta esto a capas acumuladas de convolucion y al crecimiento exponencial del 'campo receptor', es ecir, el input space visto por el network antes de hacer una prediccion."
   ]
  },
  {
   "cell_type": "markdown",
   "id": "latter-riverside",
   "metadata": {},
   "source": [
    "Dimensionality of the convolutional operation\n",
    "\n",
    "\n",
    "dimensions = 1, 2 or 3 depende de en cuantas dimensiones se presente la informacion (1d para series temporales como el texto, 2d para imagenes y 3d para video)\n",
    "\n",
    "\n",
    "channels_in = es la dimension de los features de cada input, por ejemplo, en texto el channel sera = al vocabulario\n",
    "\n",
    "\n",
    "channels_out = la dimension del tensor de salida"
   ]
  }
 ],
 "metadata": {
  "kernelspec": {
   "display_name": "Python 3",
   "language": "python",
   "name": "python3"
  },
  "language_info": {
   "codemirror_mode": {
    "name": "ipython",
    "version": 3
   },
   "file_extension": ".py",
   "mimetype": "text/x-python",
   "name": "python",
   "nbconvert_exporter": "python",
   "pygments_lexer": "ipython3",
   "version": "3.6.9"
  }
 },
 "nbformat": 4,
 "nbformat_minor": 5
}
