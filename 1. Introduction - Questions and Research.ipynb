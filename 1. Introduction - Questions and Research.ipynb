{
 "cells": [
  {
   "cell_type": "markdown",
   "id": "demonstrated-shareware",
   "metadata": {},
   "source": [
    "# 1. Introduction"
   ]
  },
  {
   "cell_type": "markdown",
   "id": "solid-estate",
   "metadata": {},
   "source": [
    "### To solve:\n",
    "\t- What is a tensor?\n",
    "\t- What is a computational graph?\n",
    "\t- What are numerical optimization techniques?\n",
    "\t- What is a mathematical expression?\n",
    "\t- What is a loss function?\n",
    "\t- What is Convergence criterion?\n",
    "\t- What is seaborn? What are the different parameters?\n",
    "\t- What is a Heatmap?\n",
    "\t- What does fit_tranform function in sklearn?\n",
    "\t- What is logarithm? - Explain regardin IDF (and IDF(w)=log Nnw)\n",
    "\t- What are computational graphs?\n",
    "\t- What is a tape-based automatic differentation method that allows to define an execute computational graphs dynamically?\n",
    "\t- What is uniform distribution?\n",
    "    - What is the standard normal distribution?\n",
    "    - What is float64?\n",
    "    - Pytorch:\n",
    "        -bmm (batch matrix matrix product)"
   ]
  },
  {
   "cell_type": "markdown",
   "id": "enhanced-station",
   "metadata": {},
   "source": [
    "### To research: \n",
    "\t- Target encoding - Dougherty et al. (1995)\n",
    "    - Differences between Chainer, DyNet or Pytorch against TensorFlow, Theano or Caffe (dnamic vs not dynamic computational graphs)\n",
    "    -Parallelism and multi-GPU training"
   ]
  },
  {
   "cell_type": "code",
   "execution_count": null,
   "id": "flying-genre",
   "metadata": {},
   "outputs": [],
   "source": []
  }
 ],
 "metadata": {
  "kernelspec": {
   "display_name": "Python 3",
   "language": "python",
   "name": "python3"
  },
  "language_info": {
   "codemirror_mode": {
    "name": "ipython",
    "version": 3
   },
   "file_extension": ".py",
   "mimetype": "text/x-python",
   "name": "python",
   "nbconvert_exporter": "python",
   "pygments_lexer": "ipython3",
   "version": "3.6.9"
  }
 },
 "nbformat": 4,
 "nbformat_minor": 5
}
