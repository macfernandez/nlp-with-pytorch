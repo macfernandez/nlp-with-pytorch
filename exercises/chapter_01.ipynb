{
 "cells": [
  {
   "cell_type": "markdown",
   "id": "paperback-arrow",
   "metadata": {},
   "source": [
    "# Chapter 1 - Exercises"
   ]
  },
  {
   "cell_type": "markdown",
   "id": "advanced-colors",
   "metadata": {},
   "source": [
    "1. Create a 2D tensor and then add a dimension of size 1 inserted at dimension 0."
   ]
  },
  {
   "cell_type": "code",
   "execution_count": 1,
   "id": "humanitarian-phenomenon",
   "metadata": {},
   "outputs": [],
   "source": [
    "import torch\n",
    "import utils"
   ]
  },
  {
   "cell_type": "code",
   "execution_count": 9,
   "id": "primary-quality",
   "metadata": {},
   "outputs": [],
   "source": [
    "tensor_2d = torch.rand([2,3])"
   ]
  },
  {
   "cell_type": "code",
   "execution_count": 10,
   "id": "dated-justice",
   "metadata": {},
   "outputs": [
    {
     "data": {
      "text/plain": [
       "tensor([[0.1457, 0.6957, 0.0886],\n",
       "        [0.1324, 0.7803, 0.2393]])"
      ]
     },
     "execution_count": 10,
     "metadata": {},
     "output_type": "execute_result"
    }
   ],
   "source": [
    "tensor_2d"
   ]
  },
  {
   "cell_type": "code",
   "execution_count": 37,
   "id": "right-diana",
   "metadata": {},
   "outputs": [
    {
     "name": "stdout",
     "output_type": "stream",
     "text": [
      "Type: torch.FloatTensor\n",
      "Shape/size: torch.Size([2, 3])\n",
      "Values: \n",
      "tensor([[0.1457, 0.6957, 0.0886],\n",
      "        [0.1324, 0.7803, 0.2393]])\n"
     ]
    }
   ],
   "source": [
    "utils.describe(tensor_2d)"
   ]
  },
  {
   "cell_type": "markdown",
   "id": "black-logic",
   "metadata": {},
   "source": [
    "To add dimensions: [toche.unsqueeze()](https://pytorch.org/docs/stable/generated/torch.unsqueeze.html)"
   ]
  },
  {
   "cell_type": "code",
   "execution_count": 24,
   "id": "armed-trinity",
   "metadata": {},
   "outputs": [
    {
     "data": {
      "text/plain": [
       "tensor([[[0.1457, 0.6957, 0.0886],\n",
       "         [0.1324, 0.7803, 0.2393]]])"
      ]
     },
     "execution_count": 24,
     "metadata": {},
     "output_type": "execute_result"
    }
   ],
   "source": [
    "tensor_unsqueeze = torch.unsqueeze(tensor_2d, 0)\n",
    "tensor_unsqueeze"
   ]
  },
  {
   "cell_type": "code",
   "execution_count": 38,
   "id": "future-texas",
   "metadata": {},
   "outputs": [
    {
     "name": "stdout",
     "output_type": "stream",
     "text": [
      "Type: torch.FloatTensor\n",
      "Shape/size: torch.Size([1, 2, 3])\n",
      "Values: \n",
      "tensor([[[0.1457, 0.6957, 0.0886],\n",
      "         [0.1324, 0.7803, 0.2393]]])\n"
     ]
    }
   ],
   "source": [
    "utils.describe(tensor_unsqueeze)"
   ]
  },
  {
   "cell_type": "markdown",
   "id": "demanding-elimination",
   "metadata": {},
   "source": [
    "2. Remove the extra dimension you just added to the previous tensor."
   ]
  },
  {
   "cell_type": "markdown",
   "id": "naughty-ballet",
   "metadata": {},
   "source": [
    "To remove dimensions: [toche.squeeze()](https://pytorch.org/docs/stable/generated/torch.squeeze.html)"
   ]
  },
  {
   "cell_type": "code",
   "execution_count": 26,
   "id": "adolescent-silicon",
   "metadata": {},
   "outputs": [
    {
     "data": {
      "text/plain": [
       "tensor([[0.1457, 0.6957, 0.0886],\n",
       "        [0.1324, 0.7803, 0.2393]])"
      ]
     },
     "execution_count": 26,
     "metadata": {},
     "output_type": "execute_result"
    }
   ],
   "source": [
    "tensor_squeeze = torch.squeeze(tensor_unsqueeze, 0)\n",
    "tensor_squeeze"
   ]
  },
  {
   "cell_type": "code",
   "execution_count": 39,
   "id": "identical-thickness",
   "metadata": {},
   "outputs": [
    {
     "name": "stdout",
     "output_type": "stream",
     "text": [
      "Type: torch.FloatTensor\n",
      "Shape/size: torch.Size([2, 3])\n",
      "Values: \n",
      "tensor([[0.1457, 0.6957, 0.0886],\n",
      "        [0.1324, 0.7803, 0.2393]])\n"
     ]
    }
   ],
   "source": [
    "utils.describe(tensor_squeeze)"
   ]
  },
  {
   "cell_type": "markdown",
   "id": "primary-brazil",
   "metadata": {},
   "source": [
    "3. Create a random tensor of shape 5x3 in the interval \\[3, 7)."
   ]
  },
  {
   "cell_type": "markdown",
   "id": "progressive-landscape",
   "metadata": {},
   "source": [
    "`torch.rand` returns a tensor filled with random numbers from a uniform distribution on the interval :math:`[0, 1)`"
   ]
  },
  {
   "cell_type": "code",
   "execution_count": 50,
   "id": "imported-footwear",
   "metadata": {},
   "outputs": [
    {
     "data": {
      "text/plain": [
       "tensor([[0.9276, 0.4968, 0.2203],\n",
       "        [0.7331, 0.5633, 0.6245],\n",
       "        [0.8656, 0.1886, 0.4023],\n",
       "        [0.6021, 0.9194, 0.4788],\n",
       "        [0.9295, 0.9510, 0.1480]])"
      ]
     },
     "execution_count": 50,
     "metadata": {},
     "output_type": "execute_result"
    }
   ],
   "source": [
    "tensor_5x3 = torch.rand(5,3)\n",
    "tensor_5x3"
   ]
  },
  {
   "cell_type": "markdown",
   "id": "hidden-fossil",
   "metadata": {},
   "source": [
    "Si la posición x en el tensor es 0 (valor mínimo que dvuelve rand), entonces 4\\*0+3 = 3\n",
    "\n",
    "Y si la posición x es 1 (valor máximo que devuelve rand), entonces 4\\*1+3=7"
   ]
  },
  {
   "cell_type": "code",
   "execution_count": 53,
   "id": "incomplete-animation",
   "metadata": {},
   "outputs": [
    {
     "data": {
      "text/plain": [
       "tensor([[6.7106, 4.9871, 3.8813],\n",
       "        [5.9324, 5.2532, 5.4981],\n",
       "        [6.4622, 3.7546, 4.6091],\n",
       "        [5.4085, 6.6775, 4.9153],\n",
       "        [6.7179, 6.8039, 3.5922]])"
      ]
     },
     "execution_count": 53,
     "metadata": {},
     "output_type": "execute_result"
    }
   ],
   "source": [
    "4 * tensor_5x3 + 3"
   ]
  },
  {
   "cell_type": "markdown",
   "id": "extensive-block",
   "metadata": {},
   "source": [
    "4. Create a tensor with values from a normal distribution (mean= 0 , std= 1 )."
   ]
  },
  {
   "cell_type": "markdown",
   "id": "nuclear-klein",
   "metadata": {},
   "source": [
    "According with docstrings `torch.randn` returns a tensor filled with random numbers from a normal distribution with mean `0` and variance `1` (also called the standard normal distribution)."
   ]
  },
  {
   "cell_type": "code",
   "execution_count": 3,
   "id": "affected-romania",
   "metadata": {},
   "outputs": [
    {
     "data": {
      "text/plain": [
       "tensor([[-2.0638,  0.5934, -1.2149],\n",
       "        [ 0.5379,  0.7224, -0.4430],\n",
       "        [-1.5656, -0.2829, -0.6539]])"
      ]
     },
     "execution_count": 3,
     "metadata": {},
     "output_type": "execute_result"
    }
   ],
   "source": [
    "tensor_normal = torch.randn(3,3)\n",
    "tensor_normal"
   ]
  },
  {
   "cell_type": "code",
   "execution_count": 4,
   "id": "considered-spectrum",
   "metadata": {},
   "outputs": [
    {
     "data": {
      "text/plain": [
       "tensor(-0.4856)"
      ]
     },
     "execution_count": 4,
     "metadata": {},
     "output_type": "execute_result"
    }
   ],
   "source": [
    "tensor_normal.mean()"
   ]
  },
  {
   "cell_type": "code",
   "execution_count": 5,
   "id": "ready-plumbing",
   "metadata": {},
   "outputs": [
    {
     "data": {
      "text/plain": [
       "tensor(0.9957)"
      ]
     },
     "execution_count": 5,
     "metadata": {},
     "output_type": "execute_result"
    }
   ],
   "source": [
    "tensor_normal.std()"
   ]
  },
  {
   "cell_type": "markdown",
   "id": "every-sodium",
   "metadata": {},
   "source": [
    "Not happening... Why?"
   ]
  },
  {
   "cell_type": "code",
   "execution_count": 12,
   "id": "imposed-marks",
   "metadata": {},
   "outputs": [
    {
     "data": {
      "text/plain": [
       "\u001b[0;31mDocstring:\u001b[0m\n",
       "randn(*size, *, out=None, dtype=None, layout=torch.strided, device=None, requires_grad=False) -> Tensor\n",
       "\n",
       "Returns a tensor filled with random numbers from a normal distribution\n",
       "with mean `0` and variance `1` (also called the standard normal\n",
       "distribution).\n",
       "\n",
       ".. math::\n",
       "    \\text{out}_{i} \\sim \\mathcal{N}(0, 1)\n",
       "\n",
       "The shape of the tensor is defined by the variable argument :attr:`size`.\n",
       "\n",
       "Args:\n",
       "    size (int...): a sequence of integers defining the shape of the output tensor.\n",
       "        Can be a variable number of arguments or a collection like a list or tuple.\n",
       "\n",
       "Keyword args:\n",
       "    out (Tensor, optional): the output tensor.\n",
       "    dtype (:class:`torch.dtype`, optional): the desired data type of returned tensor.\n",
       "        Default: if ``None``, uses a global default (see :func:`torch.set_default_tensor_type`).\n",
       "    layout (:class:`torch.layout`, optional): the desired layout of returned Tensor.\n",
       "        Default: ``torch.strided``.\n",
       "    device (:class:`torch.device`, optional): the desired device of returned tensor.\n",
       "        Default: if ``None``, uses the current device for the default tensor type\n",
       "        (see :func:`torch.set_default_tensor_type`). :attr:`device` will be the CPU\n",
       "        for CPU tensor types and the current CUDA device for CUDA tensor types.\n",
       "    requires_grad (bool, optional): If autograd should record operations on the\n",
       "        returned tensor. Default: ``False``.\n",
       "\n",
       "Example::\n",
       "\n",
       "    >>> torch.randn(4)\n",
       "    tensor([-2.1436,  0.9966,  2.3426, -0.6366])\n",
       "    >>> torch.randn(2, 3)\n",
       "    tensor([[ 1.5954,  2.8929, -1.0923],\n",
       "            [ 1.1719, -0.4709, -0.1996]])\n",
       "\u001b[0;31mType:\u001b[0m      builtin_function_or_method\n"
      ]
     },
     "metadata": {},
     "output_type": "display_data"
    }
   ],
   "source": [
    "torch.randn?"
   ]
  },
  {
   "cell_type": "markdown",
   "id": "burning-valuation",
   "metadata": {},
   "source": [
    "5. Retrieve the indexes of all the nonzero elements in the tensor torch.Tensor(\\[1, 1, 1, 0, 1\\])."
   ]
  },
  {
   "cell_type": "code",
   "execution_count": 14,
   "id": "sweet-wonder",
   "metadata": {},
   "outputs": [
    {
     "data": {
      "text/plain": [
       "tensor([1., 1., 1., 0., 1.])"
      ]
     },
     "execution_count": 14,
     "metadata": {},
     "output_type": "execute_result"
    }
   ],
   "source": [
    "tensor = torch.Tensor([1,1,1,0,1])\n",
    "tensor"
   ]
  },
  {
   "cell_type": "code",
   "execution_count": 32,
   "id": "fuzzy-vault",
   "metadata": {},
   "outputs": [
    {
     "data": {
      "text/plain": [
       "array([0, 1, 2, 4])"
      ]
     },
     "execution_count": 32,
     "metadata": {},
     "output_type": "execute_result"
    }
   ],
   "source": [
    "tensor.nonzero().squeeze().numpy()"
   ]
  },
  {
   "cell_type": "markdown",
   "id": "martial-charleston",
   "metadata": {},
   "source": [
    "6. Create a random tensor of size (3,1) and then horizontally stack four copies together."
   ]
  },
  {
   "cell_type": "code",
   "execution_count": 35,
   "id": "exterior-sucking",
   "metadata": {},
   "outputs": [
    {
     "data": {
      "text/plain": [
       "tensor([[0.2971],\n",
       "        [0.3045],\n",
       "        [0.6950]])"
      ]
     },
     "execution_count": 35,
     "metadata": {},
     "output_type": "execute_result"
    }
   ],
   "source": [
    "tensor = torch.rand(3,1)\n",
    "tensor"
   ]
  },
  {
   "cell_type": "markdown",
   "id": "breeding-feeding",
   "metadata": {},
   "source": [
    "My solution:"
   ]
  },
  {
   "cell_type": "code",
   "execution_count": 50,
   "id": "owned-invalid",
   "metadata": {},
   "outputs": [
    {
     "data": {
      "text/plain": [
       "tensor([[0.2971, 0.2971, 0.2971, 0.2971],\n",
       "        [0.3045, 0.3045, 0.3045, 0.3045],\n",
       "        [0.6950, 0.6950, 0.6950, 0.6950]])"
      ]
     },
     "execution_count": 50,
     "metadata": {},
     "output_type": "execute_result"
    }
   ],
   "source": [
    "torch.stack([tensor]*4, dim=1).squeeze()"
   ]
  },
  {
   "cell_type": "markdown",
   "id": "genuine-hygiene",
   "metadata": {},
   "source": [
    "Book's (and easier) solution:"
   ]
  },
  {
   "cell_type": "code",
   "execution_count": 46,
   "id": "fundamental-council",
   "metadata": {},
   "outputs": [
    {
     "data": {
      "text/plain": [
       "tensor([[0.2971, 0.2971, 0.2971, 0.2971],\n",
       "        [0.3045, 0.3045, 0.3045, 0.3045],\n",
       "        [0.6950, 0.6950, 0.6950, 0.6950]])"
      ]
     },
     "execution_count": 46,
     "metadata": {},
     "output_type": "execute_result"
    }
   ],
   "source": [
    "tensor.expand(3,4)"
   ]
  },
  {
   "cell_type": "markdown",
   "id": "difficult-might",
   "metadata": {},
   "source": [
    "7. Return the batch matrix-matrix product of two three-dimensional matrices (a=torch.rand(3,4,5), b=torch.rand(3,5,4))."
   ]
  },
  {
   "cell_type": "code",
   "execution_count": 59,
   "id": "vanilla-compiler",
   "metadata": {},
   "outputs": [],
   "source": [
    "a=torch.rand(3,4,5)\n",
    "b=torch.rand(3,5,4)"
   ]
  },
  {
   "cell_type": "code",
   "execution_count": 60,
   "id": "regulated-baker",
   "metadata": {},
   "outputs": [
    {
     "data": {
      "text/plain": [
       "torch.Size([3, 4, 5])"
      ]
     },
     "execution_count": 60,
     "metadata": {},
     "output_type": "execute_result"
    }
   ],
   "source": [
    "a.shape"
   ]
  },
  {
   "cell_type": "code",
   "execution_count": 61,
   "id": "backed-consensus",
   "metadata": {},
   "outputs": [
    {
     "data": {
      "text/plain": [
       "torch.Size([3, 5, 4])"
      ]
     },
     "execution_count": 61,
     "metadata": {},
     "output_type": "execute_result"
    }
   ],
   "source": [
    "b.shape"
   ]
  },
  {
   "cell_type": "markdown",
   "id": "laden-bosnia",
   "metadata": {},
   "source": [
    "My solution:"
   ]
  },
  {
   "cell_type": "code",
   "execution_count": 63,
   "id": "immune-million",
   "metadata": {},
   "outputs": [
    {
     "data": {
      "text/plain": [
       "tensor([[[1.0962, 1.0655, 1.2630, 0.4567],\n",
       "         [2.0305, 1.7208, 2.3422, 1.4194],\n",
       "         [1.3479, 0.9951, 1.4749, 1.1104],\n",
       "         [1.4509, 1.1683, 1.7108, 0.8421]],\n",
       "\n",
       "        [[1.9578, 2.3209, 2.1993, 1.2747],\n",
       "         [1.6553, 1.9437, 1.7491, 0.7375],\n",
       "         [1.2309, 1.4056, 1.5664, 0.9337],\n",
       "         [1.2594, 1.4759, 1.2836, 0.7835]],\n",
       "\n",
       "        [[0.7211, 0.8805, 1.0336, 1.0805],\n",
       "         [0.6996, 0.9147, 0.9695, 1.4738],\n",
       "         [0.8130, 0.4847, 0.9186, 1.2562],\n",
       "         [1.2521, 1.0582, 1.5491, 1.7443]]])"
      ]
     },
     "execution_count": 63,
     "metadata": {},
     "output_type": "execute_result"
    }
   ],
   "source": [
    "torch.matmul(a,b)"
   ]
  },
  {
   "cell_type": "markdown",
   "id": "coordinated-carnival",
   "metadata": {},
   "source": [
    "Book's solution:"
   ]
  },
  {
   "cell_type": "code",
   "execution_count": 64,
   "id": "broadband-memphis",
   "metadata": {},
   "outputs": [
    {
     "data": {
      "text/plain": [
       "tensor([[[1.0962, 1.0655, 1.2630, 0.4567],\n",
       "         [2.0305, 1.7208, 2.3422, 1.4194],\n",
       "         [1.3479, 0.9951, 1.4749, 1.1104],\n",
       "         [1.4509, 1.1683, 1.7108, 0.8421]],\n",
       "\n",
       "        [[1.9578, 2.3209, 2.1993, 1.2747],\n",
       "         [1.6553, 1.9437, 1.7491, 0.7375],\n",
       "         [1.2309, 1.4056, 1.5664, 0.9337],\n",
       "         [1.2594, 1.4759, 1.2836, 0.7835]],\n",
       "\n",
       "        [[0.7211, 0.8805, 1.0336, 1.0805],\n",
       "         [0.6996, 0.9147, 0.9695, 1.4738],\n",
       "         [0.8130, 0.4847, 0.9186, 1.2562],\n",
       "         [1.2521, 1.0582, 1.5491, 1.7443]]])"
      ]
     },
     "execution_count": 64,
     "metadata": {},
     "output_type": "execute_result"
    }
   ],
   "source": [
    "torch.bmm(a,b)"
   ]
  },
  {
   "cell_type": "markdown",
   "id": "identified-editing",
   "metadata": {},
   "source": [
    "About [matmul](https://pytorch.org/docs/stable/generated/torch.matmul.html) and [bmm](https://pytorch.org/docs/stable/generated/torch.bmm.html)-"
   ]
  },
  {
   "cell_type": "markdown",
   "id": "close-diesel",
   "metadata": {},
   "source": [
    "8. Return the batch matrix-matrix product of a 3D matrix and a 2D matrix (a=torch.rand(3,4,5), b=torch.rand(5,4))."
   ]
  },
  {
   "cell_type": "code",
   "execution_count": 65,
   "id": "north-clinic",
   "metadata": {},
   "outputs": [
    {
     "data": {
      "text/plain": [
       "torch.Size([3, 4, 5])"
      ]
     },
     "execution_count": 65,
     "metadata": {},
     "output_type": "execute_result"
    }
   ],
   "source": [
    "a=torch.rand(3,4,5)\n",
    "b=torch.rand(5,4)\n",
    "a.shape"
   ]
  },
  {
   "cell_type": "code",
   "execution_count": 72,
   "id": "complicated-canvas",
   "metadata": {},
   "outputs": [
    {
     "data": {
      "text/plain": [
       "torch.Size([5, 4])"
      ]
     },
     "execution_count": 72,
     "metadata": {},
     "output_type": "execute_result"
    }
   ],
   "source": [
    "b.shape"
   ]
  },
  {
   "cell_type": "markdown",
   "id": "macro-afternoon",
   "metadata": {},
   "source": [
    "My solution:"
   ]
  },
  {
   "cell_type": "code",
   "execution_count": 67,
   "id": "ultimate-float",
   "metadata": {},
   "outputs": [
    {
     "data": {
      "text/plain": [
       "tensor([[[1.5850, 0.7248, 1.2108, 1.5101],\n",
       "         [0.8088, 0.6547, 1.1892, 1.0139],\n",
       "         [1.2012, 0.9473, 1.9510, 1.0319],\n",
       "         [1.1234, 0.4521, 0.8911, 1.3674]],\n",
       "\n",
       "        [[1.2177, 0.7396, 1.0209, 0.8117],\n",
       "         [1.6349, 0.8433, 1.8116, 1.2448],\n",
       "         [1.6431, 1.0434, 2.0607, 1.3694],\n",
       "         [1.8886, 1.2610, 2.1123, 1.7101]],\n",
       "\n",
       "        [[1.0715, 0.7768, 1.4962, 0.5858],\n",
       "         [0.6308, 0.6725, 1.0242, 0.8071],\n",
       "         [1.6531, 0.5479, 1.3518, 1.2904],\n",
       "         [0.8996, 1.0827, 1.1026, 1.0016]]])"
      ]
     },
     "execution_count": 67,
     "metadata": {},
     "output_type": "execute_result"
    }
   ],
   "source": [
    "torch.matmul(a,b)"
   ]
  },
  {
   "cell_type": "markdown",
   "id": "ceramic-olympus",
   "metadata": {},
   "source": [
    "Book's solution:"
   ]
  },
  {
   "cell_type": "code",
   "execution_count": 68,
   "id": "impressive-nashville",
   "metadata": {},
   "outputs": [
    {
     "data": {
      "text/plain": [
       "tensor([[[1.5850, 0.7248, 1.2108, 1.5101],\n",
       "         [0.8088, 0.6547, 1.1892, 1.0139],\n",
       "         [1.2012, 0.9473, 1.9510, 1.0319],\n",
       "         [1.1234, 0.4521, 0.8911, 1.3674]],\n",
       "\n",
       "        [[1.2177, 0.7396, 1.0209, 0.8117],\n",
       "         [1.6349, 0.8433, 1.8116, 1.2448],\n",
       "         [1.6431, 1.0434, 2.0607, 1.3694],\n",
       "         [1.8886, 1.2610, 2.1123, 1.7101]],\n",
       "\n",
       "        [[1.0715, 0.7768, 1.4962, 0.5858],\n",
       "         [0.6308, 0.6725, 1.0242, 0.8071],\n",
       "         [1.6531, 0.5479, 1.3518, 1.2904],\n",
       "         [0.8996, 1.0827, 1.1026, 1.0016]]])"
      ]
     },
     "execution_count": 68,
     "metadata": {},
     "output_type": "execute_result"
    }
   ],
   "source": [
    "torch.bmm(a, b.unsqueeze(0).expand(a.size(0), *b.size()))"
   ]
  },
  {
   "cell_type": "markdown",
   "id": "collective-ethics",
   "metadata": {},
   "source": [
    "Step by step:"
   ]
  },
  {
   "cell_type": "code",
   "execution_count": 71,
   "id": "stylish-groove",
   "metadata": {},
   "outputs": [
    {
     "data": {
      "text/plain": [
       "tensor([[0.9611, 0.1982, 0.2375, 0.3089],\n",
       "        [0.2671, 0.6270, 0.6860, 0.0089],\n",
       "        [0.9330, 0.0781, 0.5660, 0.9313],\n",
       "        [0.2273, 0.2030, 0.9521, 0.2303],\n",
       "        [0.0242, 0.4180, 0.2188, 0.6780]])"
      ]
     },
     "execution_count": 71,
     "metadata": {},
     "output_type": "execute_result"
    }
   ],
   "source": [
    "b"
   ]
  },
  {
   "cell_type": "code",
   "execution_count": 70,
   "id": "married-alfred",
   "metadata": {},
   "outputs": [
    {
     "data": {
      "text/plain": [
       "tensor([[[0.9611, 0.1982, 0.2375, 0.3089],\n",
       "         [0.2671, 0.6270, 0.6860, 0.0089],\n",
       "         [0.9330, 0.0781, 0.5660, 0.9313],\n",
       "         [0.2273, 0.2030, 0.9521, 0.2303],\n",
       "         [0.0242, 0.4180, 0.2188, 0.6780]]])"
      ]
     },
     "execution_count": 70,
     "metadata": {},
     "output_type": "execute_result"
    }
   ],
   "source": [
    "b.unsqueeze(0)"
   ]
  },
  {
   "cell_type": "code",
   "execution_count": 74,
   "id": "greenhouse-relevance",
   "metadata": {},
   "outputs": [
    {
     "data": {
      "text/plain": [
       "3"
      ]
     },
     "execution_count": 74,
     "metadata": {},
     "output_type": "execute_result"
    }
   ],
   "source": [
    "a.size(0)"
   ]
  },
  {
   "cell_type": "code",
   "execution_count": 76,
   "id": "configured-kitty",
   "metadata": {},
   "outputs": [
    {
     "data": {
      "text/plain": [
       "torch.Size([5, 4])"
      ]
     },
     "execution_count": 76,
     "metadata": {},
     "output_type": "execute_result"
    }
   ],
   "source": [
    "b.size()"
   ]
  },
  {
   "cell_type": "code",
   "execution_count": 78,
   "id": "minute-sense",
   "metadata": {},
   "outputs": [
    {
     "data": {
      "text/plain": [
       "\u001b[0;31mDocstring:\u001b[0m\n",
       "expand(*sizes) -> Tensor\n",
       "\n",
       "Returns a new view of the :attr:`self` tensor with singleton dimensions expanded\n",
       "to a larger size.\n",
       "\n",
       "Passing -1 as the size for a dimension means not changing the size of\n",
       "that dimension.\n",
       "\n",
       "Tensor can be also expanded to a larger number of dimensions, and the\n",
       "new ones will be appended at the front. For the new dimensions, the\n",
       "size cannot be set to -1.\n",
       "\n",
       "Expanding a tensor does not allocate new memory, but only creates a\n",
       "new view on the existing tensor where a dimension of size one is\n",
       "expanded to a larger size by setting the ``stride`` to 0. Any dimension\n",
       "of size 1 can be expanded to an arbitrary value without allocating new\n",
       "memory.\n",
       "\n",
       "Args:\n",
       "    *sizes (torch.Size or int...): the desired expanded size\n",
       "\n",
       ".. warning::\n",
       "\n",
       "    More than one element of an expanded tensor may refer to a single\n",
       "    memory location. As a result, in-place operations (especially ones that\n",
       "    are vectorized) may result in incorrect behavior. If you need to write\n",
       "    to the tensors, please clone them first.\n",
       "\n",
       "Example::\n",
       "\n",
       "    >>> x = torch.tensor([[1], [2], [3]])\n",
       "    >>> x.size()\n",
       "    torch.Size([3, 1])\n",
       "    >>> x.expand(3, 4)\n",
       "    tensor([[ 1,  1,  1,  1],\n",
       "            [ 2,  2,  2,  2],\n",
       "            [ 3,  3,  3,  3]])\n",
       "    >>> x.expand(-1, 4)   # -1 means not changing the size of that dimension\n",
       "    tensor([[ 1,  1,  1,  1],\n",
       "            [ 2,  2,  2,  2],\n",
       "            [ 3,  3,  3,  3]])\n",
       "\u001b[0;31mType:\u001b[0m      builtin_function_or_method\n"
      ]
     },
     "metadata": {},
     "output_type": "display_data"
    }
   ],
   "source": [
    "a.expand?"
   ]
  },
  {
   "cell_type": "code",
   "execution_count": 75,
   "id": "structured-research",
   "metadata": {},
   "outputs": [
    {
     "data": {
      "text/plain": [
       "tensor([[[0.9611, 0.1982, 0.2375, 0.3089],\n",
       "         [0.2671, 0.6270, 0.6860, 0.0089],\n",
       "         [0.9330, 0.0781, 0.5660, 0.9313],\n",
       "         [0.2273, 0.2030, 0.9521, 0.2303],\n",
       "         [0.0242, 0.4180, 0.2188, 0.6780]],\n",
       "\n",
       "        [[0.9611, 0.1982, 0.2375, 0.3089],\n",
       "         [0.2671, 0.6270, 0.6860, 0.0089],\n",
       "         [0.9330, 0.0781, 0.5660, 0.9313],\n",
       "         [0.2273, 0.2030, 0.9521, 0.2303],\n",
       "         [0.0242, 0.4180, 0.2188, 0.6780]],\n",
       "\n",
       "        [[0.9611, 0.1982, 0.2375, 0.3089],\n",
       "         [0.2671, 0.6270, 0.6860, 0.0089],\n",
       "         [0.9330, 0.0781, 0.5660, 0.9313],\n",
       "         [0.2273, 0.2030, 0.9521, 0.2303],\n",
       "         [0.0242, 0.4180, 0.2188, 0.6780]]])"
      ]
     },
     "execution_count": 75,
     "metadata": {},
     "output_type": "execute_result"
    }
   ],
   "source": [
    "b.unsqueeze(0).expand(a.size(0),*b.size())"
   ]
  },
  {
   "cell_type": "code",
   "execution_count": 79,
   "id": "olympic-shore",
   "metadata": {},
   "outputs": [
    {
     "data": {
      "text/plain": [
       "torch.Size([3, 5, 4])"
      ]
     },
     "execution_count": 79,
     "metadata": {},
     "output_type": "execute_result"
    }
   ],
   "source": [
    "b.unsqueeze(0).expand(a.size(0),*b.size()).size()"
   ]
  },
  {
   "cell_type": "code",
   "execution_count": 80,
   "id": "direct-proportion",
   "metadata": {},
   "outputs": [
    {
     "data": {
      "text/plain": [
       "torch.Size([3, 4, 5])"
      ]
     },
     "execution_count": 80,
     "metadata": {},
     "output_type": "execute_result"
    }
   ],
   "source": [
    "a.size()"
   ]
  }
 ],
 "metadata": {
  "kernelspec": {
   "display_name": "Python 3",
   "language": "python",
   "name": "python3"
  },
  "language_info": {
   "codemirror_mode": {
    "name": "ipython",
    "version": 3
   },
   "file_extension": ".py",
   "mimetype": "text/x-python",
   "name": "python",
   "nbconvert_exporter": "python",
   "pygments_lexer": "ipython3",
   "version": "3.7.5"
  }
 },
 "nbformat": 4,
 "nbformat_minor": 5
}
