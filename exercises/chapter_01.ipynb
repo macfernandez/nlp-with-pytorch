{
 "cells": [
  {
   "cell_type": "markdown",
   "id": "tropical-length",
   "metadata": {},
   "source": [
    "# Chapter 1 - Exercises"
   ]
  },
  {
   "cell_type": "markdown",
   "id": "constitutional-sociology",
   "metadata": {},
   "source": [
    "1. Create a 2D tensor and then add a dimension of size 1 inserted at dimension 0."
   ]
  },
  {
   "cell_type": "code",
   "execution_count": 36,
   "id": "above-genetics",
   "metadata": {},
   "outputs": [],
   "source": [
    "import torch\n",
    "import utils"
   ]
  },
  {
   "cell_type": "code",
   "execution_count": 9,
   "id": "prepared-tractor",
   "metadata": {},
   "outputs": [],
   "source": [
    "tensor_2d = torch.rand([2,3])"
   ]
  },
  {
   "cell_type": "code",
   "execution_count": 10,
   "id": "dense-polyester",
   "metadata": {},
   "outputs": [
    {
     "data": {
      "text/plain": [
       "tensor([[0.1457, 0.6957, 0.0886],\n",
       "        [0.1324, 0.7803, 0.2393]])"
      ]
     },
     "execution_count": 10,
     "metadata": {},
     "output_type": "execute_result"
    }
   ],
   "source": [
    "tensor_2d"
   ]
  },
  {
   "cell_type": "code",
   "execution_count": 37,
   "id": "broad-homework",
   "metadata": {},
   "outputs": [
    {
     "name": "stdout",
     "output_type": "stream",
     "text": [
      "Type: torch.FloatTensor\n",
      "Shape/size: torch.Size([2, 3])\n",
      "Values: \n",
      "tensor([[0.1457, 0.6957, 0.0886],\n",
      "        [0.1324, 0.7803, 0.2393]])\n"
     ]
    }
   ],
   "source": [
    "utils.describe(tensor_2d)"
   ]
  },
  {
   "cell_type": "markdown",
   "id": "compressed-award",
   "metadata": {},
   "source": [
    "To add dimensions: [toche.unsqueeze()](https://pytorch.org/docs/stable/generated/torch.unsqueeze.html)"
   ]
  },
  {
   "cell_type": "code",
   "execution_count": 24,
   "id": "healthy-uruguay",
   "metadata": {},
   "outputs": [
    {
     "data": {
      "text/plain": [
       "tensor([[[0.1457, 0.6957, 0.0886],\n",
       "         [0.1324, 0.7803, 0.2393]]])"
      ]
     },
     "execution_count": 24,
     "metadata": {},
     "output_type": "execute_result"
    }
   ],
   "source": [
    "tensor_unsqueeze = torch.unsqueeze(tensor_2d, 0)\n",
    "tensor_unsqueeze"
   ]
  },
  {
   "cell_type": "code",
   "execution_count": 38,
   "id": "social-cornell",
   "metadata": {},
   "outputs": [
    {
     "name": "stdout",
     "output_type": "stream",
     "text": [
      "Type: torch.FloatTensor\n",
      "Shape/size: torch.Size([1, 2, 3])\n",
      "Values: \n",
      "tensor([[[0.1457, 0.6957, 0.0886],\n",
      "         [0.1324, 0.7803, 0.2393]]])\n"
     ]
    }
   ],
   "source": [
    "utils.describe(tensor_unsqueeze)"
   ]
  },
  {
   "cell_type": "markdown",
   "id": "standing-sentence",
   "metadata": {},
   "source": [
    "2. Remove the extra dimension you just added to the previous tensor."
   ]
  },
  {
   "cell_type": "markdown",
   "id": "executive-timothy",
   "metadata": {},
   "source": [
    "To remove dimensions: [toche.squeeze()](https://pytorch.org/docs/stable/generated/torch.squeeze.html)"
   ]
  },
  {
   "cell_type": "code",
   "execution_count": 26,
   "id": "muslim-chair",
   "metadata": {},
   "outputs": [
    {
     "data": {
      "text/plain": [
       "tensor([[0.1457, 0.6957, 0.0886],\n",
       "        [0.1324, 0.7803, 0.2393]])"
      ]
     },
     "execution_count": 26,
     "metadata": {},
     "output_type": "execute_result"
    }
   ],
   "source": [
    "tensor_squeeze = torch.squeeze(tensor_unsqueeze, 0)\n",
    "tensor_squeeze"
   ]
  },
  {
   "cell_type": "code",
   "execution_count": 39,
   "id": "addressed-glossary",
   "metadata": {},
   "outputs": [
    {
     "name": "stdout",
     "output_type": "stream",
     "text": [
      "Type: torch.FloatTensor\n",
      "Shape/size: torch.Size([2, 3])\n",
      "Values: \n",
      "tensor([[0.1457, 0.6957, 0.0886],\n",
      "        [0.1324, 0.7803, 0.2393]])\n"
     ]
    }
   ],
   "source": [
    "utils.describe(tensor_squeeze)"
   ]
  },
  {
   "cell_type": "markdown",
   "id": "metric-medline",
   "metadata": {},
   "source": [
    "3. Create a random tensor of shape 5x3 in the interval \\[3, 7)."
   ]
  },
  {
   "cell_type": "markdown",
   "id": "similar-stable",
   "metadata": {},
   "source": [
    "`torch.rand` returns a tensor filled with random numbers from a uniform distribution on the interval :math:`[0, 1)`"
   ]
  },
  {
   "cell_type": "code",
   "execution_count": 50,
   "id": "twelve-program",
   "metadata": {},
   "outputs": [
    {
     "data": {
      "text/plain": [
       "tensor([[0.9276, 0.4968, 0.2203],\n",
       "        [0.7331, 0.5633, 0.6245],\n",
       "        [0.8656, 0.1886, 0.4023],\n",
       "        [0.6021, 0.9194, 0.4788],\n",
       "        [0.9295, 0.9510, 0.1480]])"
      ]
     },
     "execution_count": 50,
     "metadata": {},
     "output_type": "execute_result"
    }
   ],
   "source": [
    "tensor_5x3 = torch.rand(5,3)\n",
    "tensor_5x3"
   ]
  },
  {
   "cell_type": "markdown",
   "id": "preliminary-vitamin",
   "metadata": {},
   "source": [
    "Si la posición x en el tensor es 0 (valor mínimo que dvuelve rand), entonces 4\\*0+3 = 3\n",
    "\n",
    "Y si la posición x es 1 (valor máximo que devuelve rand), entonces 4\\*1+3=7"
   ]
  },
  {
   "cell_type": "code",
   "execution_count": 53,
   "id": "burning-option",
   "metadata": {},
   "outputs": [
    {
     "data": {
      "text/plain": [
       "tensor([[6.7106, 4.9871, 3.8813],\n",
       "        [5.9324, 5.2532, 5.4981],\n",
       "        [6.4622, 3.7546, 4.6091],\n",
       "        [5.4085, 6.6775, 4.9153],\n",
       "        [6.7179, 6.8039, 3.5922]])"
      ]
     },
     "execution_count": 53,
     "metadata": {},
     "output_type": "execute_result"
    }
   ],
   "source": [
    "4 * tensor_5x3 + 3"
   ]
  },
  {
   "cell_type": "markdown",
   "id": "metropolitan-lounge",
   "metadata": {},
   "source": [
    "4. Create a tensor with values from a normal distribution (mean= 0 , std= 1 )."
   ]
  },
  {
   "cell_type": "code",
   "execution_count": 80,
   "id": "atlantic-marine",
   "metadata": {},
   "outputs": [
    {
     "data": {
      "text/plain": [
       "tensor([[ 0.2531,  0.5661,  0.6914],\n",
       "        [-0.3934,  2.2067,  0.7046],\n",
       "        [ 0.6292, -0.1796,  0.3332]])"
      ]
     },
     "execution_count": 80,
     "metadata": {},
     "output_type": "execute_result"
    }
   ],
   "source": [
    "tensor_normal = torch.randn(3,3)\n",
    "tensor_normal"
   ]
  },
  {
   "cell_type": "code",
   "execution_count": 81,
   "id": "altered-sudan",
   "metadata": {},
   "outputs": [
    {
     "data": {
      "text/plain": [
       "tensor([[ 0.6140, -0.5291, -0.1355],\n",
       "        [ 0.6645, -1.6819, -1.7415],\n",
       "        [ 1.0207,  0.9725, -0.0323]])"
      ]
     },
     "execution_count": 81,
     "metadata": {},
     "output_type": "execute_result"
    }
   ],
   "source": [
    "tensor_normal.normal_()"
   ]
  },
  {
   "cell_type": "code",
   "execution_count": 83,
   "id": "administrative-traveler",
   "metadata": {},
   "outputs": [
    {
     "data": {
      "text/plain": [
       "tensor(-0.0943)"
      ]
     },
     "execution_count": 83,
     "metadata": {},
     "output_type": "execute_result"
    }
   ],
   "source": [
    "tensor_normal.mean()"
   ]
  },
  {
   "cell_type": "code",
   "execution_count": 82,
   "id": "color-representative",
   "metadata": {},
   "outputs": [
    {
     "data": {
      "text/plain": [
       "tensor(1.0540)"
      ]
     },
     "execution_count": 82,
     "metadata": {},
     "output_type": "execute_result"
    }
   ],
   "source": [
    "tensor_normal.std()"
   ]
  },
  {
   "cell_type": "markdown",
   "id": "encouraging-graduate",
   "metadata": {},
   "source": [
    "5. Retrieve the indexes of all the nonzero elements in the tensor torch.Tensor(\\[1, 1, 1, 0, 1\\])."
   ]
  },
  {
   "cell_type": "code",
   "execution_count": null,
   "id": "stopped-terrace",
   "metadata": {},
   "outputs": [],
   "source": []
  },
  {
   "cell_type": "markdown",
   "id": "foster-browser",
   "metadata": {},
   "source": [
    "6. Create a random tensor of size (3,1) and then horizontally stack four copies together."
   ]
  },
  {
   "cell_type": "code",
   "execution_count": null,
   "id": "sensitive-donna",
   "metadata": {},
   "outputs": [],
   "source": []
  },
  {
   "cell_type": "markdown",
   "id": "original-sweden",
   "metadata": {},
   "source": [
    "7. Return the batch matrix-matrix product of two three-dimensional matrices (a=torch.rand(3,4,5), b=torch.rand(3,5,4))."
   ]
  },
  {
   "cell_type": "code",
   "execution_count": null,
   "id": "sexual-coach",
   "metadata": {},
   "outputs": [],
   "source": []
  },
  {
   "cell_type": "markdown",
   "id": "cutting-insider",
   "metadata": {},
   "source": [
    "8. Return the batch matrix-matrix product of a 3D matrix and a 2D matrix (a=torch.rand(3,4,5), b=torch.rand(5,4))."
   ]
  },
  {
   "cell_type": "code",
   "execution_count": null,
   "id": "computational-patent",
   "metadata": {},
   "outputs": [],
   "source": []
  }
 ],
 "metadata": {
  "kernelspec": {
   "display_name": "Python 3",
   "language": "python",
   "name": "python3"
  },
  "language_info": {
   "codemirror_mode": {
    "name": "ipython",
    "version": 3
   },
   "file_extension": ".py",
   "mimetype": "text/x-python",
   "name": "python",
   "nbconvert_exporter": "python",
   "pygments_lexer": "ipython3",
   "version": "3.7.5"
  }
 },
 "nbformat": 4,
 "nbformat_minor": 5
}
