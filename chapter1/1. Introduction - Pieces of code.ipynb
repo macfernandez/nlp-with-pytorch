{
 "cells": [
  {
   "cell_type": "markdown",
   "id": "exact-blame",
   "metadata": {},
   "source": [
    "# 1. Introduction"
   ]
  },
  {
   "cell_type": "markdown",
   "id": "casual-clinton",
   "metadata": {},
   "source": [
    "#### 1-1 Generating a collapsed one-hot using sklearn"
   ]
  },
  {
   "cell_type": "code",
   "execution_count": 37,
   "id": "needed-breathing",
   "metadata": {},
   "outputs": [],
   "source": [
    "#!pip install scikit-learn\n",
    "#!pip install torch torchvision"
   ]
  },
  {
   "cell_type": "code",
   "execution_count": 1,
   "id": "stopped-marketplace",
   "metadata": {},
   "outputs": [],
   "source": [
    "from sklearn.feature_extraction.text import CountVectorizer\n",
    "import seaborn as sns"
   ]
  },
  {
   "cell_type": "code",
   "execution_count": 2,
   "id": "attempted-hostel",
   "metadata": {},
   "outputs": [],
   "source": [
    "corpus = ['Time flies like an arrow', 'Fruit flies like a banana'] # Agregar nuestro corpus"
   ]
  },
  {
   "cell_type": "code",
   "execution_count": 21,
   "id": "interesting-buying",
   "metadata": {},
   "outputs": [],
   "source": [
    "one_hot_vectorizer = CountVectorizer(binary=True)\n",
    "one_hot = one_hot_vectorizer.fit_transform(corpus).toarray()"
   ]
  },
  {
   "cell_type": "code",
   "execution_count": 31,
   "id": "married-bolivia",
   "metadata": {},
   "outputs": [
    {
     "data": {
      "text/plain": [
       "<AxesSubplot:>"
      ]
     },
     "execution_count": 31,
     "metadata": {},
     "output_type": "execute_result"
    },
    {
     "data": {
      "image/png": "[encoded data removed]",
      "text/plain": [
       "<Figure size 432x288 with 1 Axes>"
      ]
     },
     "metadata": {
      "needs_background": "light"
     },
     "output_type": "display_data"
    }
   ],
   "source": [
    "sns.heatmap(one_hot, annot=True, cbar=False, xticklabels=one_hot_vectorizer.get_feature_names(), \n",
    "            yticklabels=['Sentence1','Sentence2']) "
   ]
  },
  {
   "cell_type": "markdown",
   "id": "distinct-armstrong",
   "metadata": {},
   "source": [
    "#### 1-2 Generating a TF-IDF representation using sklearn"
   ]
  },
  {
   "cell_type": "code",
   "execution_count": 32,
   "id": "mounted-selection",
   "metadata": {},
   "outputs": [],
   "source": [
    "from sklearn.feature_extraction.text import TfidfVectorizer"
   ]
  },
  {
   "cell_type": "code",
   "execution_count": 33,
   "id": "governmental-russia",
   "metadata": {},
   "outputs": [],
   "source": [
    "tfidf_vectorizer = TfidfVectorizer()\n",
    "tfidf = tfidf_vectorizer.fit_transform(corpus).toarray()"
   ]
  },
  {
   "cell_type": "code",
   "execution_count": 34,
   "id": "toxic-deposit",
   "metadata": {},
   "outputs": [
    {
     "data": {
      "text/plain": [
       "<AxesSubplot:>"
      ]
     },
     "execution_count": 34,
     "metadata": {},
     "output_type": "execute_result"
    },
    {
     "data": {
      "image/png": "[encoded data removed]",
      "text/plain": [
       "<Figure size 432x288 with 1 Axes>"
      ]
     },
     "metadata": {
      "needs_background": "light"
     },
     "output_type": "display_data"
    }
   ],
   "source": [
    "sns.heatmap(tfidf, annot=True, cbar=False, xticklabels=tfidf_vectorizer.get_feature_names(), \n",
    "            yticklabels=['Sentence1','Sentence2']) "
   ]
  },
  {
   "cell_type": "markdown",
   "id": "furnished-tournament",
   "metadata": {},
   "source": []
  },
  {
   "cell_type": "code",
   "execution_count": 38,
   "id": "solar-washer",
   "metadata": {},
   "outputs": [
    {
     "name": "stderr",
     "output_type": "stream",
     "text": [
      "/home/juanyjulia/.local/lib/python3.6/site-packages/torch/cuda/__init__.py:52: UserWarning: CUDA initialization: Found no NVIDIA driver on your system. Please check that you have an NVIDIA GPU and installed a driver from http://www.nvidia.com/Download/index.aspx (Triggered internally at  /pytorch/c10/cuda/CUDAFunctions.cpp:100.)\n",
      "  return torch._C._cuda_getDeviceCount() > 0\n"
     ]
    },
    {
     "data": {
      "text/plain": [
       "False"
      ]
     },
     "execution_count": 38,
     "metadata": {},
     "output_type": "execute_result"
    }
   ],
   "source": [
    "import torch\n",
    "import numpy as np\n",
    "\n",
    "torch.cuda.is_available()"
   ]
  },
  {
   "cell_type": "code",
   "execution_count": 39,
   "id": "directed-collector",
   "metadata": {},
   "outputs": [
    {
     "name": "stdout",
     "output_type": "stream",
     "text": [
      "/bin/bash: nvcc: command not found\r\n"
     ]
    }
   ],
   "source": [
    "!nvcc --version"
   ]
  },
  {
   "cell_type": "code",
   "execution_count": 40,
   "id": "simple-target",
   "metadata": {},
   "outputs": [
    {
     "name": "stdout",
     "output_type": "stream",
     "text": [
      "/bin/bash: nvidia-smi: command not found\r\n"
     ]
    }
   ],
   "source": [
    "!nvidia-smi"
   ]
  },
  {
   "cell_type": "code",
   "execution_count": 41,
   "id": "swedish-syracuse",
   "metadata": {},
   "outputs": [],
   "source": [
    "def describe(x):\n",
    "  print('Type: {}'.format(x.type()))\n",
    "  print('Shape/size: {}'.format(x.shape))\n",
    "  print('Values: \\n{}'.format(x))"
   ]
  },
  {
   "cell_type": "code",
   "execution_count": 42,
   "id": "hybrid-birth",
   "metadata": {},
   "outputs": [
    {
     "name": "stdout",
     "output_type": "stream",
     "text": [
      "Type: torch.FloatTensor\n",
      "Shape/size: torch.Size([2, 3])\n",
      "Values: \n",
      "tensor([[       nan, 0.0000e+00, 4.4721e+21],\n",
      "        [3.9891e+24, 4.1996e+12, 7.5338e+28]])\n"
     ]
    }
   ],
   "source": [
    "describe(torch.Tensor(2,3))"
   ]
  },
  {
   "cell_type": "code",
   "execution_count": 43,
   "id": "hindu-scenario",
   "metadata": {},
   "outputs": [
    {
     "name": "stdout",
     "output_type": "stream",
     "text": [
      "Type: torch.FloatTensor\n",
      "Shape/size: torch.Size([2, 3])\n",
      "Values: \n",
      "tensor([[0.0066, 0.7600, 0.0237],\n",
      "        [0.8808, 0.3587, 0.3681]])\n"
     ]
    }
   ],
   "source": [
    "describe(torch.rand(2,3))"
   ]
  },
  {
   "cell_type": "code",
   "execution_count": 44,
   "id": "smooth-trustee",
   "metadata": {},
   "outputs": [
    {
     "name": "stdout",
     "output_type": "stream",
     "text": [
      "Type: torch.FloatTensor\n",
      "Shape/size: torch.Size([2, 3])\n",
      "Values: \n",
      "tensor([[-0.1052,  0.1523,  0.1430],\n",
      "        [-0.3474, -1.3172,  0.3193]])\n"
     ]
    }
   ],
   "source": [
    "describe(torch.randn(2,3))"
   ]
  },
  {
   "cell_type": "code",
   "execution_count": 45,
   "id": "actual-favor",
   "metadata": {},
   "outputs": [
    {
     "name": "stdout",
     "output_type": "stream",
     "text": [
      "Type: torch.FloatTensor\n",
      "Shape/size: torch.Size([2, 3])\n",
      "Values: \n",
      "tensor([[0., 0., 0.],\n",
      "        [0., 0., 0.]])\n"
     ]
    }
   ],
   "source": [
    "describe(torch.zeros(2,3))"
   ]
  },
  {
   "cell_type": "code",
   "execution_count": 46,
   "id": "classified-evidence",
   "metadata": {},
   "outputs": [
    {
     "name": "stdout",
     "output_type": "stream",
     "text": [
      "Type: torch.FloatTensor\n",
      "Shape/size: torch.Size([2, 3])\n",
      "Values: \n",
      "tensor([[1., 1., 1.],\n",
      "        [1., 1., 1.]])\n"
     ]
    }
   ],
   "source": [
    "x= torch.ones(2,3)\n",
    "describe(x)"
   ]
  },
  {
   "cell_type": "code",
   "execution_count": 47,
   "id": "numerical-gregory",
   "metadata": {},
   "outputs": [
    {
     "name": "stdout",
     "output_type": "stream",
     "text": [
      "Type: torch.FloatTensor\n",
      "Shape/size: torch.Size([2, 3])\n",
      "Values: \n",
      "tensor([[5., 5., 5.],\n",
      "        [5., 5., 5.]])\n"
     ]
    }
   ],
   "source": [
    "x.fill_(5)\n",
    "describe(x)"
   ]
  },
  {
   "cell_type": "code",
   "execution_count": 48,
   "id": "intense-attribute",
   "metadata": {},
   "outputs": [
    {
     "name": "stdout",
     "output_type": "stream",
     "text": [
      "Type: torch.FloatTensor\n",
      "Shape/size: torch.Size([2, 3])\n",
      "Values: \n",
      "tensor([[1., 2., 3.],\n",
      "        [4., 5., 6.]])\n"
     ]
    }
   ],
   "source": [
    "f = torch.Tensor([[1,2,3],[4,5,6]])\n",
    "describe(f)"
   ]
  },
  {
   "cell_type": "code",
   "execution_count": 49,
   "id": "likely-proposition",
   "metadata": {},
   "outputs": [
    {
     "name": "stdout",
     "output_type": "stream",
     "text": [
      "Type: torch.DoubleTensor\n",
      "Shape/size: torch.Size([2, 3])\n",
      "Values: \n",
      "tensor([[0.2730, 0.8238, 0.0977],\n",
      "        [0.2544, 0.4135, 0.7195]], dtype=torch.float64)\n"
     ]
    }
   ],
   "source": [
    "npy = np.random.rand(2,3)\n",
    "describe(torch.from_numpy(npy))"
   ]
  },
  {
   "cell_type": "code",
   "execution_count": 51,
   "id": "expired-winter",
   "metadata": {},
   "outputs": [
    {
     "name": "stdout",
     "output_type": "stream",
     "text": [
      "Type: torch.FloatTensor\n",
      "Shape/size: torch.Size([2, 3])\n",
      "Values: \n",
      "tensor([[1., 2., 3.],\n",
      "        [4., 5., 6.]])\n"
     ]
    }
   ],
   "source": [
    "x = torch.FloatTensor([[1,2,3],[4,5,6]])\n",
    "describe(x)"
   ]
  },
  {
   "cell_type": "code",
   "execution_count": 53,
   "id": "ahead-satin",
   "metadata": {},
   "outputs": [
    {
     "name": "stdout",
     "output_type": "stream",
     "text": [
      "Type: torch.LongTensor\n",
      "Shape/size: torch.Size([2, 3])\n",
      "Values: \n",
      "tensor([[1, 2, 3],\n",
      "        [4, 5, 6]])\n"
     ]
    }
   ],
   "source": [
    "x = x.long()\n",
    "describe(x)"
   ]
  },
  {
   "cell_type": "code",
   "execution_count": 56,
   "id": "prospective-laundry",
   "metadata": {},
   "outputs": [
    {
     "name": "stdout",
     "output_type": "stream",
     "text": [
      "Type: torch.LongTensor\n",
      "Shape/size: torch.Size([2, 3])\n",
      "Values: \n",
      "tensor([[1, 2, 3],\n",
      "        [4, 5, 6]])\n"
     ]
    }
   ],
   "source": [
    "x = torch.tensor([[1,2,3],[4,5,6]], dtype=torch.int64)\n",
    "describe(x)"
   ]
  },
  {
   "cell_type": "code",
   "execution_count": 57,
   "id": "explicit-sterling",
   "metadata": {},
   "outputs": [
    {
     "name": "stdout",
     "output_type": "stream",
     "text": [
      "Type: torch.FloatTensor\n",
      "Shape/size: torch.Size([2, 3])\n",
      "Values: \n",
      "tensor([[1., 2., 3.],\n",
      "        [4., 5., 6.]])\n"
     ]
    }
   ],
   "source": [
    "x = x.float()\n",
    "describe(x)"
   ]
  },
  {
   "cell_type": "markdown",
   "id": "composed-universal",
   "metadata": {},
   "source": [
    "#### Tensor operations: addition"
   ]
  },
  {
   "cell_type": "code",
   "execution_count": 72,
   "id": "amino-butterfly",
   "metadata": {},
   "outputs": [
    {
     "name": "stdout",
     "output_type": "stream",
     "text": [
      "Type: torch.FloatTensor\n",
      "Shape/size: torch.Size([2, 3])\n",
      "Values: \n",
      "tensor([[-0.6786, -1.2897,  1.4366],\n",
      "        [-0.8339,  0.0277,  0.1960]])\n"
     ]
    }
   ],
   "source": [
    "x = torch.randn(2,3)\n",
    "describe(x)"
   ]
  },
  {
   "cell_type": "code",
   "execution_count": 73,
   "id": "sacred-length",
   "metadata": {},
   "outputs": [
    {
     "name": "stdout",
     "output_type": "stream",
     "text": [
      "Type: torch.FloatTensor\n",
      "Shape/size: torch.Size([2, 3])\n",
      "Values: \n",
      "tensor([[-1.3572, -2.5795,  2.8731],\n",
      "        [-1.6679,  0.0554,  0.3920]])\n"
     ]
    }
   ],
   "source": [
    "describe(torch.add(x,x))"
   ]
  },
  {
   "cell_type": "code",
   "execution_count": 74,
   "id": "blocked-wisconsin",
   "metadata": {},
   "outputs": [
    {
     "name": "stdout",
     "output_type": "stream",
     "text": [
      "Type: torch.FloatTensor\n",
      "Shape/size: torch.Size([2, 3])\n",
      "Values: \n",
      "tensor([[-1.3572, -2.5795,  2.8731],\n",
      "        [-1.6679,  0.0554,  0.3920]])\n"
     ]
    }
   ],
   "source": [
    "describe(x+x)"
   ]
  },
  {
   "cell_type": "markdown",
   "id": "dying-chapter",
   "metadata": {},
   "source": [
    "#### Dimension-based tensor operations"
   ]
  },
  {
   "cell_type": "code",
   "execution_count": 79,
   "id": "coordinated-apache",
   "metadata": {},
   "outputs": [
    {
     "name": "stdout",
     "output_type": "stream",
     "text": [
      "Type: torch.LongTensor\n",
      "Shape/size: torch.Size([6])\n",
      "Values: \n",
      "tensor([0, 1, 2, 3, 4, 5])\n"
     ]
    }
   ],
   "source": [
    "x = torch.arange(6)\n",
    "describe(x)"
   ]
  },
  {
   "cell_type": "code",
   "execution_count": 80,
   "id": "scientific-allen",
   "metadata": {},
   "outputs": [
    {
     "name": "stdout",
     "output_type": "stream",
     "text": [
      "Type: torch.LongTensor\n",
      "Shape/size: torch.Size([2, 3])\n",
      "Values: \n",
      "tensor([[0, 1, 2],\n",
      "        [3, 4, 5]])\n"
     ]
    }
   ],
   "source": [
    "x = x.view(2,3)\n",
    "describe(x)"
   ]
  },
  {
   "cell_type": "code",
   "execution_count": 81,
   "id": "pharmaceutical-buyer",
   "metadata": {},
   "outputs": [
    {
     "name": "stdout",
     "output_type": "stream",
     "text": [
      "Type: torch.LongTensor\n",
      "Shape/size: torch.Size([3])\n",
      "Values: \n",
      "tensor([3, 5, 7])\n"
     ]
    }
   ],
   "source": [
    "describe(torch.sum(x, dim=0))"
   ]
  },
  {
   "cell_type": "code",
   "execution_count": 82,
   "id": "numerous-reproduction",
   "metadata": {},
   "outputs": [
    {
     "name": "stdout",
     "output_type": "stream",
     "text": [
      "Type: torch.LongTensor\n",
      "Shape/size: torch.Size([2])\n",
      "Values: \n",
      "tensor([ 3, 12])\n"
     ]
    }
   ],
   "source": [
    "describe(torch.sum(x, dim=1))"
   ]
  },
  {
   "cell_type": "code",
   "execution_count": 83,
   "id": "broadband-government",
   "metadata": {},
   "outputs": [
    {
     "name": "stdout",
     "output_type": "stream",
     "text": [
      "Type: torch.LongTensor\n",
      "Shape/size: torch.Size([3, 2])\n",
      "Values: \n",
      "tensor([[0, 3],\n",
      "        [1, 4],\n",
      "        [2, 5]])\n"
     ]
    }
   ],
   "source": [
    "describe(torch.transpose(x,0,1))"
   ]
  },
  {
   "cell_type": "markdown",
   "id": "mineral-express",
   "metadata": {},
   "source": [
    "#### Slicing and indexing a tensor"
   ]
  },
  {
   "cell_type": "code",
   "execution_count": 84,
   "id": "fluid-jerusalem",
   "metadata": {},
   "outputs": [
    {
     "name": "stdout",
     "output_type": "stream",
     "text": [
      "Type: torch.LongTensor\n",
      "Shape/size: torch.Size([2, 3])\n",
      "Values: \n",
      "tensor([[0, 1, 2],\n",
      "        [3, 4, 5]])\n"
     ]
    }
   ],
   "source": [
    "describe(x)"
   ]
  },
  {
   "cell_type": "code",
   "execution_count": 85,
   "id": "surgical-economy",
   "metadata": {},
   "outputs": [
    {
     "name": "stdout",
     "output_type": "stream",
     "text": [
      "Type: torch.LongTensor\n",
      "Shape/size: torch.Size([1, 2])\n",
      "Values: \n",
      "tensor([[0, 1]])\n"
     ]
    }
   ],
   "source": [
    "describe(x[:1,:2])"
   ]
  },
  {
   "cell_type": "code",
   "execution_count": 86,
   "id": "illegal-penny",
   "metadata": {},
   "outputs": [
    {
     "name": "stdout",
     "output_type": "stream",
     "text": [
      "Type: torch.LongTensor\n",
      "Shape/size: torch.Size([])\n",
      "Values: \n",
      "1\n"
     ]
    }
   ],
   "source": [
    "describe(x[0,1])"
   ]
  },
  {
   "cell_type": "markdown",
   "id": "electronic-forge",
   "metadata": {},
   "source": [
    "#### Complex indexing: noncontiguous indexing of a tensor"
   ]
  },
  {
   "cell_type": "code",
   "execution_count": 87,
   "id": "pretty-relevance",
   "metadata": {},
   "outputs": [
    {
     "name": "stdout",
     "output_type": "stream",
     "text": [
      "Type: torch.LongTensor\n",
      "Shape/size: torch.Size([2, 2])\n",
      "Values: \n",
      "tensor([[0, 2],\n",
      "        [3, 5]])\n"
     ]
    }
   ],
   "source": [
    "indices = torch.LongTensor([0,2])\n",
    "describe(torch.index_select(x, dim=1, index=indices))"
   ]
  },
  {
   "cell_type": "code",
   "execution_count": 88,
   "id": "swiss-glucose",
   "metadata": {},
   "outputs": [
    {
     "name": "stdout",
     "output_type": "stream",
     "text": [
      "Type: torch.LongTensor\n",
      "Shape/size: torch.Size([2, 3])\n",
      "Values: \n",
      "tensor([[0, 1, 2],\n",
      "        [0, 1, 2]])\n"
     ]
    }
   ],
   "source": [
    "indices = torch.LongTensor([0,0])\n",
    "describe(torch.index_select(x, dim=0, index=indices))"
   ]
  },
  {
   "cell_type": "code",
   "execution_count": 90,
   "id": "naked-workshop",
   "metadata": {},
   "outputs": [
    {
     "name": "stdout",
     "output_type": "stream",
     "text": [
      "Type: torch.LongTensor\n",
      "Shape/size: torch.Size([2])\n",
      "Values: \n",
      "tensor([0, 4])\n"
     ]
    }
   ],
   "source": [
    "row_indices = torch.arange(2).long()\n",
    "col_indices = torch.LongTensor([0,1])\n",
    "describe(x[row_indices, col_indices])\n"
   ]
  },
  {
   "cell_type": "markdown",
   "id": "aggregate-partition",
   "metadata": {},
   "source": [
    "#### Concatenating tensors"
   ]
  },
  {
   "cell_type": "code",
   "execution_count": 91,
   "id": "elder-beatles",
   "metadata": {},
   "outputs": [
    {
     "name": "stdout",
     "output_type": "stream",
     "text": [
      "Type: torch.LongTensor\n",
      "Shape/size: torch.Size([2, 3])\n",
      "Values: \n",
      "tensor([[0, 1, 2],\n",
      "        [3, 4, 5]])\n"
     ]
    }
   ],
   "source": [
    "x = torch.arange(6).view(2,3)\n",
    "describe(x)"
   ]
  },
  {
   "cell_type": "code",
   "execution_count": 92,
   "id": "sustained-split",
   "metadata": {},
   "outputs": [
    {
     "name": "stdout",
     "output_type": "stream",
     "text": [
      "Type: torch.LongTensor\n",
      "Shape/size: torch.Size([4, 3])\n",
      "Values: \n",
      "tensor([[0, 1, 2],\n",
      "        [3, 4, 5],\n",
      "        [0, 1, 2],\n",
      "        [3, 4, 5]])\n"
     ]
    }
   ],
   "source": [
    "describe(torch.cat([x,x], dim=0))"
   ]
  },
  {
   "cell_type": "code",
   "execution_count": 95,
   "id": "written-extension",
   "metadata": {},
   "outputs": [
    {
     "name": "stdout",
     "output_type": "stream",
     "text": [
      "Type: torch.LongTensor\n",
      "Shape/size: torch.Size([2, 6])\n",
      "Values: \n",
      "tensor([[0, 1, 2, 0, 1, 2],\n",
      "        [3, 4, 5, 3, 4, 5]])\n"
     ]
    }
   ],
   "source": [
    "describe(torch.cat([x,x], dim=1))"
   ]
  },
  {
   "cell_type": "code",
   "execution_count": 97,
   "id": "false-stick",
   "metadata": {},
   "outputs": [
    {
     "name": "stdout",
     "output_type": "stream",
     "text": [
      "Type: torch.LongTensor\n",
      "Shape/size: torch.Size([2, 2, 3])\n",
      "Values: \n",
      "tensor([[[0, 1, 2],\n",
      "         [3, 4, 5]],\n",
      "\n",
      "        [[0, 1, 2],\n",
      "         [3, 4, 5]]])\n"
     ]
    }
   ],
   "source": [
    "describe(torch.stack([x,x]))"
   ]
  },
  {
   "cell_type": "markdown",
   "id": "devoted-typing",
   "metadata": {},
   "source": [
    "#### Linear algebra on tensors: multiplication"
   ]
  },
  {
   "cell_type": "code",
   "execution_count": 98,
   "id": "stuffed-plymouth",
   "metadata": {},
   "outputs": [
    {
     "name": "stdout",
     "output_type": "stream",
     "text": [
      "Type: torch.LongTensor\n",
      "Shape/size: torch.Size([2, 3])\n",
      "Values: \n",
      "tensor([[0, 1, 2],\n",
      "        [3, 4, 5]])\n"
     ]
    }
   ],
   "source": [
    "x1 = torch.arange(6).view(2,3)\n",
    "describe(x1)"
   ]
  },
  {
   "cell_type": "code",
   "execution_count": 101,
   "id": "european-facing",
   "metadata": {},
   "outputs": [
    {
     "name": "stdout",
     "output_type": "stream",
     "text": [
      "Type: torch.FloatTensor\n",
      "Shape/size: torch.Size([3, 2])\n",
      "Values: \n",
      "tensor([[1., 2.],\n",
      "        [1., 2.],\n",
      "        [1., 2.]])\n"
     ]
    }
   ],
   "source": [
    "x2 = torch.ones(3,2)\n",
    "x2[:,1] += 1\n",
    "describe(x2)"
   ]
  },
  {
   "cell_type": "code",
   "execution_count": 102,
   "id": "occasional-carol",
   "metadata": {},
   "outputs": [
    {
     "ename": "RuntimeError",
     "evalue": "expected scalar type Long but found Float",
     "output_type": "error",
     "traceback": [
      "\u001b[0;31m---------------------------------------------------------------------------\u001b[0m",
      "\u001b[0;31mRuntimeError\u001b[0m                              Traceback (most recent call last)",
      "\u001b[0;32m<ipython-input-102-2e1af11a54a3>\u001b[0m in \u001b[0;36m<module>\u001b[0;34m\u001b[0m\n\u001b[0;32m----> 1\u001b[0;31m \u001b[0mdescribe\u001b[0m\u001b[0;34m(\u001b[0m\u001b[0mtorch\u001b[0m\u001b[0;34m.\u001b[0m\u001b[0mmm\u001b[0m\u001b[0;34m(\u001b[0m\u001b[0mx1\u001b[0m\u001b[0;34m,\u001b[0m\u001b[0mx2\u001b[0m\u001b[0;34m)\u001b[0m\u001b[0;34m)\u001b[0m\u001b[0;34m\u001b[0m\u001b[0;34m\u001b[0m\u001b[0m\n\u001b[0m",
      "\u001b[0;31mRuntimeError\u001b[0m: expected scalar type Long but found Float"
     ]
    }
   ],
   "source": [
    "describe(torch.mm(x1,x2))"
   ]
  },
  {
   "cell_type": "markdown",
   "id": "separated-transformation",
   "metadata": {},
   "source": [
    "#### Creating tensors for gradient bookkeeping"
   ]
  },
  {
   "cell_type": "code",
   "execution_count": 106,
   "id": "upper-membership",
   "metadata": {},
   "outputs": [
    {
     "name": "stdout",
     "output_type": "stream",
     "text": [
      "Type: torch.FloatTensor\n",
      "Shape/size: torch.Size([2, 2])\n",
      "Values: \n",
      "tensor([[1., 1.],\n",
      "        [1., 1.]], requires_grad=True)\n",
      "True\n"
     ]
    }
   ],
   "source": [
    "x = torch.ones(2,2,requires_grad=True)\n",
    "describe(x)\n",
    "print(x.grad is None)"
   ]
  },
  {
   "cell_type": "code",
   "execution_count": 111,
   "id": "sticky-walter",
   "metadata": {},
   "outputs": [
    {
     "name": "stdout",
     "output_type": "stream",
     "text": [
      "Type: torch.FloatTensor\n",
      "Shape/size: torch.Size([2, 2])\n",
      "Values: \n",
      "tensor([[21., 21.],\n",
      "        [21., 21.]], grad_fn=<AddBackward0>)\n",
      "True\n"
     ]
    }
   ],
   "source": [
    "y = (x+2) * (x+5) + 3\n",
    "describe(y)\n",
    "print(x.grad is None)"
   ]
  },
  {
   "cell_type": "code",
   "execution_count": 112,
   "id": "vocational-parade",
   "metadata": {},
   "outputs": [
    {
     "name": "stdout",
     "output_type": "stream",
     "text": [
      "Type: torch.FloatTensor\n",
      "Shape/size: torch.Size([])\n",
      "Values: \n",
      "21.0\n",
      "False\n"
     ]
    }
   ],
   "source": [
    "z = y.mean()\n",
    "describe(z)\n",
    "z.backward()\n",
    "print(x.grad is None)"
   ]
  },
  {
   "cell_type": "markdown",
   "id": "gothic-mentor",
   "metadata": {},
   "source": [
    "#### CUDA"
   ]
  },
  {
   "cell_type": "code",
   "execution_count": 113,
   "id": "prompt-judgment",
   "metadata": {},
   "outputs": [
    {
     "data": {
      "text/plain": [
       "False"
      ]
     },
     "execution_count": 113,
     "metadata": {},
     "output_type": "execute_result"
    }
   ],
   "source": [
    "torch.cuda.is_available()"
   ]
  },
  {
   "cell_type": "code",
   "execution_count": 115,
   "id": "suffering-valve",
   "metadata": {},
   "outputs": [
    {
     "name": "stdout",
     "output_type": "stream",
     "text": [
      "cpu\n"
     ]
    }
   ],
   "source": [
    "device = torch.device('cuda' if torch.cuda.is_available() else 'cpu')\n",
    "print(device)"
   ]
  },
  {
   "cell_type": "code",
   "execution_count": 116,
   "id": "religious-polymer",
   "metadata": {},
   "outputs": [
    {
     "name": "stdout",
     "output_type": "stream",
     "text": [
      "Type: torch.FloatTensor\n",
      "Shape/size: torch.Size([3, 3])\n",
      "Values: \n",
      "tensor([[0.3664, 0.8633, 0.1748],\n",
      "        [0.4512, 0.3929, 0.2136],\n",
      "        [0.9074, 0.1499, 0.8293]])\n"
     ]
    }
   ],
   "source": [
    "x = torch.rand(3,3).to(device)\n",
    "describe(x)"
   ]
  },
  {
   "cell_type": "markdown",
   "id": "invisible-rapid",
   "metadata": {},
   "source": [
    "#### Mixing CUDA tensors with CPU-bound tensors"
   ]
  },
  {
   "cell_type": "code",
   "execution_count": 118,
   "id": "empirical-luxury",
   "metadata": {},
   "outputs": [
    {
     "data": {
      "text/plain": [
       "tensor([[0.6413, 1.5112, 0.2189],\n",
       "        [0.8758, 0.6915, 1.1145],\n",
       "        [1.0696, 0.5064, 1.2356]])"
      ]
     },
     "execution_count": 118,
     "metadata": {},
     "output_type": "execute_result"
    }
   ],
   "source": [
    "y = torch.rand(3,3)\n",
    "x+y"
   ]
  },
  {
   "cell_type": "code",
   "execution_count": 119,
   "id": "prescription-recommendation",
   "metadata": {},
   "outputs": [
    {
     "data": {
      "text/plain": [
       "tensor([[0.6413, 1.5112, 0.2189],\n",
       "        [0.8758, 0.6915, 1.1145],\n",
       "        [1.0696, 0.5064, 1.2356]])"
      ]
     },
     "execution_count": 119,
     "metadata": {},
     "output_type": "execute_result"
    }
   ],
   "source": [
    "cpu_device = torch.device('cpu')\n",
    "y = y.to(cpu_device)\n",
    "x = x.to(cpu_device)\n",
    "y+x"
   ]
  },
  {
   "cell_type": "code",
   "execution_count": 120,
   "id": "spectacular-gentleman",
   "metadata": {},
   "outputs": [],
   "source": [
    "#!CUDA_VISIBLE_DEVISES = 0,1,2,3 python main.py # when having more than 1 device"
   ]
  },
  {
   "cell_type": "markdown",
   "id": "hungry-edinburgh",
   "metadata": {},
   "source": [
    "### Exercises"
   ]
  },
  {
   "cell_type": "code",
   "execution_count": 143,
   "id": "english-tokyo",
   "metadata": {},
   "outputs": [
    {
     "name": "stdout",
     "output_type": "stream",
     "text": [
      "Type: torch.FloatTensor\n",
      "Shape/size: torch.Size([3, 3])\n",
      "Values: \n",
      "tensor([[0.0980, 0.6075, 0.9182],\n",
      "        [0.6232, 0.9949, 0.7767],\n",
      "        [0.8956, 0.5483, 0.3190]])\n"
     ]
    }
   ],
   "source": [
    "#1\n",
    "x = torch.rand(3, 3)\n",
    "describe(x)"
   ]
  },
  {
   "cell_type": "code",
   "execution_count": 146,
   "id": "spoken-mentor",
   "metadata": {},
   "outputs": [
    {
     "name": "stdout",
     "output_type": "stream",
     "text": [
      "Type: torch.FloatTensor\n",
      "Shape/size: torch.Size([1, 3, 3])\n",
      "Values: \n",
      "tensor([[[0.0980, 0.6075, 0.9182],\n",
      "         [0.6232, 0.9949, 0.7767],\n",
      "         [0.8956, 0.5483, 0.3190]]])\n"
     ]
    }
   ],
   "source": [
    "x = x.unsqueeze(0)\n",
    "describe(x)"
   ]
  },
  {
   "cell_type": "code",
   "execution_count": 151,
   "id": "competent-moral",
   "metadata": {},
   "outputs": [
    {
     "name": "stdout",
     "output_type": "stream",
     "text": [
      "Type: torch.FloatTensor\n",
      "Shape/size: torch.Size([3, 3])\n",
      "Values: \n",
      "tensor([[0.0980, 0.6075, 0.9182],\n",
      "        [0.6232, 0.9949, 0.7767],\n",
      "        [0.8956, 0.5483, 0.3190]])\n"
     ]
    }
   ],
   "source": [
    "#2\n",
    "x = x.squeeze()\n",
    "describe(x)"
   ]
  },
  {
   "cell_type": "code",
   "execution_count": 155,
   "id": "cubic-camera",
   "metadata": {},
   "outputs": [
    {
     "name": "stdout",
     "output_type": "stream",
     "text": [
      "Type: torch.FloatTensor\n",
      "Shape/size: torch.Size([5, 3])\n",
      "Values: \n",
      "tensor([[1.2061, 1.1581, 1.1729],\n",
      "        [2.6614, 1.7662, 3.6537],\n",
      "        [1.4991, 2.1831, 0.8410],\n",
      "        [3.2915, 1.8782, 2.7488],\n",
      "        [0.2767, 3.7729, 0.5642]])\n"
     ]
    }
   ],
   "source": [
    "#3\n",
    "x = torch.rand(5,3) * (7-3)\n",
    "describe(x)"
   ]
  },
  {
   "cell_type": "code",
   "execution_count": 158,
   "id": "ambient-johnson",
   "metadata": {},
   "outputs": [
    {
     "name": "stdout",
     "output_type": "stream",
     "text": [
      "Type: torch.FloatTensor\n",
      "Shape/size: torch.Size([5, 3])\n",
      "Values: \n",
      "tensor([[-1.1457,  1.3319, -0.0079],\n",
      "        [ 1.1760, -1.9318,  0.3984],\n",
      "        [-0.5396, -0.2497, -1.4247],\n",
      "        [ 0.5303, -2.6896,  1.6340],\n",
      "        [-0.0476, -0.7756,  0.8839]])\n"
     ]
    }
   ],
   "source": [
    "#4 \n",
    "x = torch.FloatTensor(5, 3).normal_(mean=0, std=1)\n",
    "describe(x)"
   ]
  },
  {
   "cell_type": "code",
   "execution_count": 161,
   "id": "worldwide-british",
   "metadata": {},
   "outputs": [
    {
     "name": "stdout",
     "output_type": "stream",
     "text": [
      "Type: torch.LongTensor\n",
      "Shape/size: torch.Size([4, 1])\n",
      "Values: \n",
      "tensor([[0],\n",
      "        [1],\n",
      "        [2],\n",
      "        [4]])\n"
     ]
    }
   ],
   "source": [
    "#5 retrieve indices with non zeros\n",
    "x = torch.FloatTensor([1,1,1,0,1])\n",
    "describe(torch.nonzero(x))"
   ]
  },
  {
   "cell_type": "code",
   "execution_count": 165,
   "id": "superb-spider",
   "metadata": {},
   "outputs": [
    {
     "name": "stdout",
     "output_type": "stream",
     "text": [
      "Type: torch.FloatTensor\n",
      "Shape/size: torch.Size([3, 4])\n",
      "Values: \n",
      "tensor([[0.8405, 0.8405, 0.8405, 0.8405],\n",
      "        [0.8826, 0.8826, 0.8826, 0.8826],\n",
      "        [0.7106, 0.7106, 0.7106, 0.7106]])\n"
     ]
    }
   ],
   "source": [
    "#6\n",
    "x = torch.rand(3,1)\n",
    "#x = torch.stack([x,x,x,x])\n",
    "x = x.expand(3,4)\n",
    "describe(x)"
   ]
  },
  {
   "cell_type": "code",
   "execution_count": 166,
   "id": "handy-tenant",
   "metadata": {},
   "outputs": [
    {
     "data": {
      "text/plain": [
       "tensor([[[1.4436, 0.4761, 1.4743, 1.0348],\n",
       "         [1.3598, 0.5836, 1.2685, 0.8994],\n",
       "         [1.3168, 0.5394, 1.3676, 0.6816],\n",
       "         [1.9586, 0.6969, 2.1599, 1.6293]],\n",
       "\n",
       "        [[1.2902, 1.4962, 1.3867, 0.6354],\n",
       "         [1.6704, 1.9624, 2.2434, 0.8276],\n",
       "         [1.3919, 1.7662, 1.8579, 0.6471],\n",
       "         [0.8305, 1.0636, 1.3059, 0.3909]],\n",
       "\n",
       "        [[1.3531, 0.3309, 0.6355, 1.2979],\n",
       "         [1.4166, 0.7715, 0.8052, 1.4996],\n",
       "         [0.8672, 0.4598, 0.6253, 1.0442],\n",
       "         [1.8251, 1.2087, 0.9371, 1.7986]]])"
      ]
     },
     "execution_count": 166,
     "metadata": {},
     "output_type": "execute_result"
    }
   ],
   "source": [
    "#7\n",
    "x = torch.rand(3,4,5)\n",
    "y = torch.rand(3,5,4)\n",
    "torch.bmm(x,y)"
   ]
  },
  {
   "cell_type": "code",
   "execution_count": 169,
   "id": "golden-flexibility",
   "metadata": {},
   "outputs": [
    {
     "data": {
      "text/plain": [
       "tensor([[[1.1971, 0.4316, 0.9044, 0.8361],\n",
       "         [1.1153, 1.6361, 1.7065, 1.1482],\n",
       "         [1.1873, 1.4941, 1.8262, 1.0986],\n",
       "         [1.9898, 1.5421, 2.0048, 1.7524]],\n",
       "\n",
       "        [[1.2155, 1.2775, 1.8795, 1.2457],\n",
       "         [0.9069, 0.9751, 1.2490, 0.8389],\n",
       "         [1.2738, 1.4649, 1.2820, 1.1706],\n",
       "         [1.4777, 1.2811, 1.4052, 1.1581]],\n",
       "\n",
       "        [[1.3154, 0.8557, 0.9292, 0.7773],\n",
       "         [1.2749, 1.0690, 1.1639, 0.8915],\n",
       "         [1.2680, 0.7430, 0.9989, 1.1732],\n",
       "         [1.4828, 1.3777, 1.6417, 1.2562]]])"
      ]
     },
     "execution_count": 169,
     "metadata": {},
     "output_type": "execute_result"
    }
   ],
   "source": [
    "x = torch.rand(3,4,5)\n",
    "y = torch.rand(5,4)\n",
    "torch.bmm(x,y.unsqueeze(0).expand(x.size(0),*y.size()))"
   ]
  },
  {
   "cell_type": "code",
   "execution_count": null,
   "id": "czech-tutorial",
   "metadata": {},
   "outputs": [],
   "source": []
  }
 ],
 "metadata": {
  "kernelspec": {
   "display_name": "Python 3",
   "language": "python",
   "name": "python3"
  },
  "language_info": {
   "codemirror_mode": {
    "name": "ipython",
    "version": 3
   },
   "file_extension": ".py",
   "mimetype": "text/x-python",
   "name": "python",
   "nbconvert_exporter": "python",
   "pygments_lexer": "ipython3",
   "version": "3.6.9"
  }
 },
 "nbformat": 4,
 "nbformat_minor": 5
}
