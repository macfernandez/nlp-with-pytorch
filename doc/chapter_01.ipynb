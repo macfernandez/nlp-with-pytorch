{
 "cells": [
  {
   "cell_type": "markdown",
   "id": "coordinated-render",
   "metadata": {},
   "source": [
    "# Chapter 1"
   ]
  },
  {
   "cell_type": "markdown",
   "id": "lined-system",
   "metadata": {},
   "source": [
    "## Examples\n",
    "\n",
    "- [Creating Tensors](#Creating-Tensors)\n",
    "- [Tensor Types and Size](#Tensor-Types-and-Size)\n",
    "- [Tensor Operations](#Tensor-Operations)\n",
    "- [Indexing, Slicing, and Joining](#Indexing,-Slicing,-and-Joining)\n",
    "- [Tensors and Computational Graphs](#Tensors-and-Computational-Graphs)\n",
    "- [CUDA Tensors](#CUDA-Tensors)"
   ]
  },
  {
   "cell_type": "markdown",
   "id": "permanent-stuff",
   "metadata": {},
   "source": [
    "### Creating Tensors "
   ]
  },
  {
   "cell_type": "markdown",
   "id": "electric-saint",
   "metadata": {},
   "source": [
    "First, we define a helper function, describe(x), that will summarize various properties of a tensor x, such as the type of the tensor, the dimensions of the tensor, and the contents of the tensor:"
   ]
  },
  {
   "cell_type": "code",
   "execution_count": 1,
   "id": "communist-detective",
   "metadata": {},
   "outputs": [],
   "source": [
    "def describe(x): \n",
    "    print(\"Type: {}\".format(x.type())) \n",
    "    print(\"Shape/size: {}\".format(x.shape)) \n",
    "    print(\"Values: \\n{}\".format(x))"
   ]
  },
  {
   "cell_type": "markdown",
   "id": "mechanical-brave",
   "metadata": {},
   "source": [
    "#### Example 1-3. Creating a tensor in PyTorch with torch.Tensor"
   ]
  },
  {
   "cell_type": "markdown",
   "id": "working-librarian",
   "metadata": {},
   "source": [
    "One way to create a tensor is to initialize a random one by specifying its dimensions-"
   ]
  },
  {
   "cell_type": "code",
   "execution_count": 2,
   "id": "timely-cartridge",
   "metadata": {},
   "outputs": [],
   "source": [
    "import torch"
   ]
  },
  {
   "cell_type": "code",
   "execution_count": 4,
   "id": "southeast-examination",
   "metadata": {},
   "outputs": [
    {
     "data": {
      "text/plain": [
       "tensor([[ 4.0370e-17,  3.0702e-41,  4.0361e-17],\n",
       "        [ 3.0702e-41, -4.3620e+21,  4.5622e-41]])"
      ]
     },
     "execution_count": 4,
     "metadata": {},
     "output_type": "execute_result"
    }
   ],
   "source": [
    "tensor = torch.Tensor(2,3)\n",
    "tensor"
   ]
  },
  {
   "cell_type": "code",
   "execution_count": 5,
   "id": "fewer-landscape",
   "metadata": {},
   "outputs": [
    {
     "name": "stdout",
     "output_type": "stream",
     "text": [
      "Type: torch.FloatTensor\n",
      "Shape/size: torch.Size([2, 3])\n",
      "Values: \n",
      "tensor([[ 4.0370e-17,  3.0702e-41,  4.0361e-17],\n",
      "        [ 3.0702e-41, -4.3620e+21,  4.5622e-41]])\n"
     ]
    }
   ],
   "source": [
    "describe(tensor)"
   ]
  },
  {
   "cell_type": "markdown",
   "id": "moderate-morocco",
   "metadata": {},
   "source": [
    "#### Example 1-4. Creating a randomly initialized tensor"
   ]
  },
  {
   "cell_type": "markdown",
   "id": "rotary-excellence",
   "metadata": {},
   "source": [
    "We can also create a tensor by randomly initializing it with values from a uniform distribution on the interval \\[0, 1\\) or the standard normal distribution."
   ]
  },
  {
   "cell_type": "code",
   "execution_count": 9,
   "id": "amateur-rebate",
   "metadata": {},
   "outputs": [
    {
     "data": {
      "text/plain": [
       "tensor([[0.4636, 0.5943, 0.2578],\n",
       "        [0.8635, 0.1123, 0.1991]])"
      ]
     },
     "execution_count": 9,
     "metadata": {},
     "output_type": "execute_result"
    }
   ],
   "source": [
    "tensor_uniform = torch.rand(2,3)  # unirform random\n",
    "tensor_uniform"
   ]
  },
  {
   "cell_type": "code",
   "execution_count": 11,
   "id": "academic-lodge",
   "metadata": {},
   "outputs": [
    {
     "data": {
      "text/plain": [
       "tensor([[-0.3138, -0.2118, -0.3862],\n",
       "        [-2.0911,  0.0073, -1.2928]])"
      ]
     },
     "execution_count": 11,
     "metadata": {},
     "output_type": "execute_result"
    }
   ],
   "source": [
    "tensor_normal = torch.randn(2,3)  # random normal\n",
    "tensor_normal"
   ]
  },
  {
   "cell_type": "code",
   "execution_count": 12,
   "id": "further-jonathan",
   "metadata": {},
   "outputs": [
    {
     "name": "stdout",
     "output_type": "stream",
     "text": [
      "Type: torch.FloatTensor\n",
      "Shape/size: torch.Size([2, 3])\n",
      "Values: \n",
      "tensor([[0.4636, 0.5943, 0.2578],\n",
      "        [0.8635, 0.1123, 0.1991]])\n",
      "Type: torch.FloatTensor\n",
      "Shape/size: torch.Size([2, 3])\n",
      "Values: \n",
      "tensor([[-0.3138, -0.2118, -0.3862],\n",
      "        [-2.0911,  0.0073, -1.2928]])\n"
     ]
    }
   ],
   "source": [
    "describe(tensor_uniform)\n",
    "describe(tensor_normal)"
   ]
  },
  {
   "cell_type": "markdown",
   "id": "macro-chancellor",
   "metadata": {},
   "source": [
    "#### Example 1-5. Creating a filled tensor"
   ]
  },
  {
   "cell_type": "markdown",
   "id": "polished-barrier",
   "metadata": {},
   "source": [
    "For creating a tensor of zeros or ones, we have built-in functions, and for filling it with specific values, we can use the fill_() method. Any PyTorch method with an underscore \\(\\_\\) refers to an in-place operation; that is, it modifies the content in place without creating a new object."
   ]
  },
  {
   "cell_type": "code",
   "execution_count": 14,
   "id": "dominican-liability",
   "metadata": {},
   "outputs": [
    {
     "data": {
      "text/plain": [
       "tensor([[0., 0., 0.],\n",
       "        [0., 0., 0.]])"
      ]
     },
     "execution_count": 14,
     "metadata": {},
     "output_type": "execute_result"
    }
   ],
   "source": [
    "torch.zeros(2,3)"
   ]
  },
  {
   "cell_type": "code",
   "execution_count": 16,
   "id": "explicit-arctic",
   "metadata": {},
   "outputs": [
    {
     "data": {
      "text/plain": [
       "tensor([[1., 1., 1.],\n",
       "        [1., 1., 1.]])"
      ]
     },
     "execution_count": 16,
     "metadata": {},
     "output_type": "execute_result"
    }
   ],
   "source": [
    "tensor_ones = torch.ones(2,3)\n",
    "tensor_ones"
   ]
  },
  {
   "cell_type": "code",
   "execution_count": 18,
   "id": "statistical-disco",
   "metadata": {},
   "outputs": [
    {
     "data": {
      "text/plain": [
       "tensor([[5., 5., 5.],\n",
       "        [5., 5., 5.]])"
      ]
     },
     "execution_count": 18,
     "metadata": {},
     "output_type": "execute_result"
    }
   ],
   "source": [
    "tensor_ones.fill_(5)"
   ]
  },
  {
   "cell_type": "markdown",
   "id": "subsequent-garage",
   "metadata": {},
   "source": [
    "#### Example 1-6. Creating and initializing a tensor from lists"
   ]
  },
  {
   "cell_type": "code",
   "execution_count": 21,
   "id": "driving-support",
   "metadata": {},
   "outputs": [
    {
     "data": {
      "text/plain": [
       "tensor([[1., 2., 3.],\n",
       "        [4., 5., 6.]])"
      ]
     },
     "execution_count": 21,
     "metadata": {},
     "output_type": "execute_result"
    }
   ],
   "source": [
    "tensor_list = torch.Tensor([[1,2,3],[4,5,6]])\n",
    "tensor_list"
   ]
  },
  {
   "cell_type": "code",
   "execution_count": 22,
   "id": "occupational-punishment",
   "metadata": {},
   "outputs": [
    {
     "name": "stdout",
     "output_type": "stream",
     "text": [
      "Type: torch.FloatTensor\n",
      "Shape/size: torch.Size([2, 3])\n",
      "Values: \n",
      "tensor([[1., 2., 3.],\n",
      "        [4., 5., 6.]])\n"
     ]
    }
   ],
   "source": [
    "describe(tensor_list)"
   ]
  },
  {
   "cell_type": "markdown",
   "id": "optimum-trigger",
   "metadata": {},
   "source": [
    "#### Example 1-7. Creating and initializing a tensor from NumPy"
   ]
  },
  {
   "cell_type": "markdown",
   "id": "polish-blank",
   "metadata": {},
   "source": [
    "The type of the tensor is DoubleTensor instead of the default FloatTensor."
   ]
  },
  {
   "cell_type": "code",
   "execution_count": 23,
   "id": "affected-envelope",
   "metadata": {},
   "outputs": [],
   "source": [
    "import numpy as np"
   ]
  },
  {
   "cell_type": "code",
   "execution_count": 24,
   "id": "brilliant-petersburg",
   "metadata": {},
   "outputs": [
    {
     "data": {
      "text/plain": [
       "array([[0.78520734, 0.4528193 , 0.97915884],\n",
       "       [0.67410769, 0.4954342 , 0.49108712]])"
      ]
     },
     "execution_count": 24,
     "metadata": {},
     "output_type": "execute_result"
    }
   ],
   "source": [
    "tensor_np = np.random.rand(2, 3)\n",
    "tensor_np"
   ]
  },
  {
   "cell_type": "code",
   "execution_count": 27,
   "id": "herbal-amsterdam",
   "metadata": {},
   "outputs": [
    {
     "name": "stdout",
     "output_type": "stream",
     "text": [
      "Type: torch.DoubleTensor\n",
      "Shape/size: torch.Size([2, 3])\n",
      "Values: \n",
      "tensor([[0.7852, 0.4528, 0.9792],\n",
      "        [0.6741, 0.4954, 0.4911]], dtype=torch.float64)\n"
     ]
    }
   ],
   "source": [
    "describe(torch.from_numpy(tensor_np))"
   ]
  },
  {
   "cell_type": "markdown",
   "id": "competent-dakota",
   "metadata": {},
   "source": [
    "### Tensor Types and Size"
   ]
  },
  {
   "cell_type": "markdown",
   "id": "liable-heath",
   "metadata": {},
   "source": [
    "#### Example 1-8. Tensor properties"
   ]
  },
  {
   "cell_type": "code",
   "execution_count": 28,
   "id": "dimensional-measure",
   "metadata": {},
   "outputs": [
    {
     "name": "stdout",
     "output_type": "stream",
     "text": [
      "Type: torch.FloatTensor\n",
      "Shape/size: torch.Size([2, 3])\n",
      "Values: \n",
      "tensor([[1., 2., 3.],\n",
      "        [4., 5., 6.]])\n"
     ]
    }
   ],
   "source": [
    "tensor_float = torch.FloatTensor([[1, 2, 3], [4, 5, 6]]) \n",
    "describe(tensor_float)"
   ]
  },
  {
   "cell_type": "code",
   "execution_count": 30,
   "id": "virtual-portfolio",
   "metadata": {},
   "outputs": [
    {
     "name": "stdout",
     "output_type": "stream",
     "text": [
      "Type: torch.LongTensor\n",
      "Shape/size: torch.Size([2, 3])\n",
      "Values: \n",
      "tensor([[1, 2, 3],\n",
      "        [4, 5, 6]])\n"
     ]
    }
   ],
   "source": [
    "tensor_convlong = tensor_float.long()\n",
    "describe(tensor_convlong)"
   ]
  },
  {
   "cell_type": "code",
   "execution_count": 31,
   "id": "advance-jesus",
   "metadata": {},
   "outputs": [
    {
     "name": "stdout",
     "output_type": "stream",
     "text": [
      "Type: torch.LongTensor\n",
      "Shape/size: torch.Size([2, 3])\n",
      "Values: \n",
      "tensor([[1, 2, 3],\n",
      "        [4, 5, 6]])\n"
     ]
    }
   ],
   "source": [
    "tensor_long = torch.tensor([[1, 2, 3], [4, 5, 6]], dtype=torch.int64)\n",
    "describe(tensor_long)"
   ]
  },
  {
   "cell_type": "code",
   "execution_count": 33,
   "id": "contemporary-upgrade",
   "metadata": {},
   "outputs": [
    {
     "name": "stdout",
     "output_type": "stream",
     "text": [
      "Type: torch.FloatTensor\n",
      "Shape/size: torch.Size([2, 3])\n",
      "Values: \n",
      "tensor([[1., 2., 3.],\n",
      "        [4., 5., 6.]])\n"
     ]
    }
   ],
   "source": [
    "tensor_convfloat = tensor_long.float()\n",
    "describe(tensor_convfloat)"
   ]
  },
  {
   "cell_type": "markdown",
   "id": "interested-accessory",
   "metadata": {},
   "source": [
    "### Tensor Operations"
   ]
  },
  {
   "cell_type": "markdown",
   "id": "interior-nursing",
   "metadata": {},
   "source": [
    "#### Example 1-9. Tensor operations: addition"
   ]
  },
  {
   "cell_type": "code",
   "execution_count": 34,
   "id": "academic-academy",
   "metadata": {},
   "outputs": [
    {
     "name": "stdout",
     "output_type": "stream",
     "text": [
      "Type: torch.FloatTensor\n",
      "Shape/size: torch.Size([2, 3])\n",
      "Values: \n",
      "tensor([[ 0.2494,  0.2122,  0.1987],\n",
      "        [-0.8165, -0.1303,  3.1284]])\n"
     ]
    }
   ],
   "source": [
    "tensor_toadd = torch.randn(2, 3)\n",
    "describe(tensor_toadd)"
   ]
  },
  {
   "cell_type": "code",
   "execution_count": 35,
   "id": "commercial-communications",
   "metadata": {},
   "outputs": [
    {
     "name": "stdout",
     "output_type": "stream",
     "text": [
      "Type: torch.FloatTensor\n",
      "Shape/size: torch.Size([2, 3])\n",
      "Values: \n",
      "tensor([[ 0.4988,  0.4244,  0.3974],\n",
      "        [-1.6330, -0.2606,  6.2568]])\n"
     ]
    }
   ],
   "source": [
    "describe(torch.add(tensor_toadd, tensor_toadd))"
   ]
  },
  {
   "cell_type": "code",
   "execution_count": 36,
   "id": "advisory-onion",
   "metadata": {},
   "outputs": [
    {
     "name": "stdout",
     "output_type": "stream",
     "text": [
      "Type: torch.FloatTensor\n",
      "Shape/size: torch.Size([2, 3])\n",
      "Values: \n",
      "tensor([[ 0.4988,  0.4244,  0.3974],\n",
      "        [-1.6330, -0.2606,  6.2568]])\n"
     ]
    }
   ],
   "source": [
    "describe(tensor_toadd+tensor_toadd)"
   ]
  },
  {
   "cell_type": "markdown",
   "id": "related-theorem",
   "metadata": {},
   "source": [
    "#### Example 1-10. Dimension-based tensor operations"
   ]
  },
  {
   "cell_type": "code",
   "execution_count": 38,
   "id": "planned-particular",
   "metadata": {},
   "outputs": [
    {
     "data": {
      "text/plain": [
       "tensor([0, 1, 2, 3, 4, 5])"
      ]
     },
     "execution_count": 38,
     "metadata": {},
     "output_type": "execute_result"
    }
   ],
   "source": [
    "tensor_arange = torch.arange(6)\n",
    "tensor_arange"
   ]
  },
  {
   "cell_type": "code",
   "execution_count": 41,
   "id": "martial-mouth",
   "metadata": {},
   "outputs": [
    {
     "name": "stdout",
     "output_type": "stream",
     "text": [
      "Type: torch.LongTensor\n",
      "Shape/size: torch.Size([6])\n",
      "Values: \n",
      "tensor([0, 1, 2, 3, 4, 5])\n"
     ]
    }
   ],
   "source": [
    "describe(tensor_arange)"
   ]
  },
  {
   "cell_type": "code",
   "execution_count": 39,
   "id": "thermal-compiler",
   "metadata": {},
   "outputs": [
    {
     "data": {
      "text/plain": [
       "tensor([[0, 1, 2],\n",
       "        [3, 4, 5]])"
      ]
     },
     "execution_count": 39,
     "metadata": {},
     "output_type": "execute_result"
    }
   ],
   "source": [
    "tensor_view = tensor_arange.view(2,3)\n",
    "tensor_view"
   ]
  },
  {
   "cell_type": "code",
   "execution_count": 40,
   "id": "annoying-relay",
   "metadata": {},
   "outputs": [
    {
     "name": "stdout",
     "output_type": "stream",
     "text": [
      "Type: torch.LongTensor\n",
      "Shape/size: torch.Size([2, 3])\n",
      "Values: \n",
      "tensor([[0, 1, 2],\n",
      "        [3, 4, 5]])\n"
     ]
    }
   ],
   "source": [
    "describe(tensor_view)"
   ]
  },
  {
   "cell_type": "code",
   "execution_count": 42,
   "id": "technological-burner",
   "metadata": {},
   "outputs": [
    {
     "name": "stdout",
     "output_type": "stream",
     "text": [
      "Type: torch.LongTensor\n",
      "Shape/size: torch.Size([3])\n",
      "Values: \n",
      "tensor([3, 5, 7])\n"
     ]
    }
   ],
   "source": [
    "describe(torch.sum(tensor_view, dim=0))"
   ]
  },
  {
   "cell_type": "code",
   "execution_count": 43,
   "id": "tight-advancement",
   "metadata": {},
   "outputs": [
    {
     "name": "stdout",
     "output_type": "stream",
     "text": [
      "Type: torch.LongTensor\n",
      "Shape/size: torch.Size([2])\n",
      "Values: \n",
      "tensor([ 3, 12])\n"
     ]
    }
   ],
   "source": [
    "describe(torch.sum(tensor_view, dim=1))"
   ]
  },
  {
   "cell_type": "code",
   "execution_count": 44,
   "id": "lucky-tractor",
   "metadata": {},
   "outputs": [
    {
     "name": "stdout",
     "output_type": "stream",
     "text": [
      "Type: torch.LongTensor\n",
      "Shape/size: torch.Size([3, 2])\n",
      "Values: \n",
      "tensor([[0, 3],\n",
      "        [1, 4],\n",
      "        [2, 5]])\n"
     ]
    }
   ],
   "source": [
    "describe(torch.transpose(tensor_view, 0, 1))"
   ]
  },
  {
   "cell_type": "markdown",
   "id": "subsequent-reducing",
   "metadata": {},
   "source": [
    "### Indexing, Slicing, and Joining"
   ]
  },
  {
   "cell_type": "markdown",
   "id": "uniform-casting",
   "metadata": {},
   "source": [
    "#### Example 1-11. Slicing and indexing a tensor"
   ]
  },
  {
   "cell_type": "code",
   "execution_count": 51,
   "id": "future-frederick",
   "metadata": {},
   "outputs": [
    {
     "name": "stdout",
     "output_type": "stream",
     "text": [
      "Type: torch.LongTensor\n",
      "Shape/size: torch.Size([2, 3])\n",
      "Values: \n",
      "tensor([[0, 1, 2],\n",
      "        [3, 4, 5]])\n"
     ]
    }
   ],
   "source": [
    "describe(tensor_view)"
   ]
  },
  {
   "cell_type": "code",
   "execution_count": 50,
   "id": "suspected-jersey",
   "metadata": {},
   "outputs": [
    {
     "name": "stdout",
     "output_type": "stream",
     "text": [
      "Type: torch.LongTensor\n",
      "Shape/size: torch.Size([1, 2])\n",
      "Values: \n",
      "tensor([[0, 1]])\n"
     ]
    }
   ],
   "source": [
    "describe(tensor_view[:1, :2])"
   ]
  },
  {
   "cell_type": "code",
   "execution_count": 53,
   "id": "lined-ambassador",
   "metadata": {},
   "outputs": [
    {
     "name": "stdout",
     "output_type": "stream",
     "text": [
      "Type: torch.LongTensor\n",
      "Shape/size: torch.Size([])\n",
      "Values: \n",
      "1\n"
     ]
    }
   ],
   "source": [
    "describe(tensor_view[0, 1])"
   ]
  },
  {
   "cell_type": "markdown",
   "id": "empty-policy",
   "metadata": {},
   "source": [
    "#### Example 1-12. Complex indexing: noncontiguous indexing of a tensor"
   ]
  },
  {
   "cell_type": "markdown",
   "id": "public-mercury",
   "metadata": {},
   "source": [
    "Indices must be long tensors."
   ]
  },
  {
   "cell_type": "code",
   "execution_count": 54,
   "id": "possible-fruit",
   "metadata": {},
   "outputs": [
    {
     "data": {
      "text/plain": [
       "tensor([0, 2])"
      ]
     },
     "execution_count": 54,
     "metadata": {},
     "output_type": "execute_result"
    }
   ],
   "source": [
    "indices = torch.LongTensor([0, 2])\n",
    "indices"
   ]
  },
  {
   "cell_type": "code",
   "execution_count": 56,
   "id": "limited-arkansas",
   "metadata": {},
   "outputs": [
    {
     "name": "stdout",
     "output_type": "stream",
     "text": [
      "Type: torch.LongTensor\n",
      "Shape/size: torch.Size([2, 2])\n",
      "Values: \n",
      "tensor([[0, 2],\n",
      "        [3, 5]])\n"
     ]
    }
   ],
   "source": [
    "describe(torch.index_select(tensor_view, dim=1, index=indices))"
   ]
  },
  {
   "cell_type": "code",
   "execution_count": 58,
   "id": "dramatic-kinase",
   "metadata": {},
   "outputs": [
    {
     "data": {
      "text/plain": [
       "tensor([0, 0])"
      ]
     },
     "execution_count": 58,
     "metadata": {},
     "output_type": "execute_result"
    }
   ],
   "source": [
    "indices = torch.LongTensor([0, 0])\n",
    "indices"
   ]
  },
  {
   "cell_type": "code",
   "execution_count": 59,
   "id": "personal-philadelphia",
   "metadata": {},
   "outputs": [
    {
     "name": "stdout",
     "output_type": "stream",
     "text": [
      "Type: torch.LongTensor\n",
      "Shape/size: torch.Size([2, 3])\n",
      "Values: \n",
      "tensor([[0, 1, 2],\n",
      "        [0, 1, 2]])\n"
     ]
    }
   ],
   "source": [
    "describe(torch.index_select(tensor_view, dim=0, index=indices))"
   ]
  },
  {
   "cell_type": "code",
   "execution_count": 60,
   "id": "dental-crisis",
   "metadata": {},
   "outputs": [
    {
     "data": {
      "text/plain": [
       "tensor([0, 1])"
      ]
     },
     "execution_count": 60,
     "metadata": {},
     "output_type": "execute_result"
    }
   ],
   "source": [
    "row_indices = torch.arange(2).long()\n",
    "col_indices = torch.LongTensor([0, 1])\n",
    "row_indices"
   ]
  },
  {
   "cell_type": "code",
   "execution_count": 61,
   "id": "wired-retrieval",
   "metadata": {},
   "outputs": [
    {
     "data": {
      "text/plain": [
       "tensor([0, 1])"
      ]
     },
     "execution_count": 61,
     "metadata": {},
     "output_type": "execute_result"
    }
   ],
   "source": [
    "col_indices"
   ]
  },
  {
   "cell_type": "markdown",
   "id": "improved-speaker",
   "metadata": {},
   "source": [
    "Select the position (0,0) and (1,1) from:"
   ]
  },
  {
   "cell_type": "code",
   "execution_count": 64,
   "id": "crucial-absorption",
   "metadata": {},
   "outputs": [
    {
     "data": {
      "text/plain": [
       "tensor([[0, 1, 2],\n",
       "        [3, 4, 5]])"
      ]
     },
     "execution_count": 64,
     "metadata": {},
     "output_type": "execute_result"
    }
   ],
   "source": [
    "tensor_view"
   ]
  },
  {
   "cell_type": "code",
   "execution_count": 62,
   "id": "consecutive-three",
   "metadata": {},
   "outputs": [
    {
     "name": "stdout",
     "output_type": "stream",
     "text": [
      "Type: torch.LongTensor\n",
      "Shape/size: torch.Size([2])\n",
      "Values: \n",
      "tensor([0, 4])\n"
     ]
    }
   ],
   "source": [
    "describe(tensor_view[row_indices, col_indices])"
   ]
  },
  {
   "cell_type": "markdown",
   "id": "improving-internet",
   "metadata": {},
   "source": [
    "#### Example 1-13. Concatenating tensors"
   ]
  },
  {
   "cell_type": "code",
   "execution_count": 66,
   "id": "superior-shopper",
   "metadata": {},
   "outputs": [
    {
     "data": {
      "text/plain": [
       "tensor([[0, 1, 2],\n",
       "        [3, 4, 5]])"
      ]
     },
     "execution_count": 66,
     "metadata": {},
     "output_type": "execute_result"
    }
   ],
   "source": [
    "tensor_view"
   ]
  },
  {
   "cell_type": "code",
   "execution_count": 68,
   "id": "green-passage",
   "metadata": {},
   "outputs": [
    {
     "name": "stdout",
     "output_type": "stream",
     "text": [
      "Type: torch.LongTensor\n",
      "Shape/size: torch.Size([4, 3])\n",
      "Values: \n",
      "tensor([[0, 1, 2],\n",
      "        [3, 4, 5],\n",
      "        [0, 1, 2],\n",
      "        [3, 4, 5]])\n"
     ]
    }
   ],
   "source": [
    "describe(torch.cat([tensor_view, tensor_view], dim=0))"
   ]
  },
  {
   "cell_type": "code",
   "execution_count": 69,
   "id": "possible-cooper",
   "metadata": {},
   "outputs": [
    {
     "name": "stdout",
     "output_type": "stream",
     "text": [
      "Type: torch.LongTensor\n",
      "Shape/size: torch.Size([2, 6])\n",
      "Values: \n",
      "tensor([[0, 1, 2, 0, 1, 2],\n",
      "        [3, 4, 5, 3, 4, 5]])\n"
     ]
    }
   ],
   "source": [
    "describe(torch.cat([tensor_view, tensor_view], dim=1))"
   ]
  },
  {
   "cell_type": "code",
   "execution_count": 70,
   "id": "recognized-planet",
   "metadata": {},
   "outputs": [
    {
     "name": "stdout",
     "output_type": "stream",
     "text": [
      "Type: torch.LongTensor\n",
      "Shape/size: torch.Size([2, 2, 3])\n",
      "Values: \n",
      "tensor([[[0, 1, 2],\n",
      "         [3, 4, 5]],\n",
      "\n",
      "        [[0, 1, 2],\n",
      "         [3, 4, 5]]])\n"
     ]
    }
   ],
   "source": [
    "describe(torch.stack([tensor_view, tensor_view]))"
   ]
  },
  {
   "cell_type": "markdown",
   "id": "developmental-orange",
   "metadata": {},
   "source": [
    "#### Example 1-14. Linear algebra on tensors: multiplication"
   ]
  },
  {
   "cell_type": "code",
   "execution_count": 84,
   "id": "designed-barrier",
   "metadata": {},
   "outputs": [
    {
     "data": {
      "text/plain": [
       "tensor([[0., 1., 2.],\n",
       "        [3., 4., 5.]])"
      ]
     },
     "execution_count": 84,
     "metadata": {},
     "output_type": "execute_result"
    }
   ],
   "source": [
    "tensor_view = tensor_view.float()\n",
    "tensor_view"
   ]
  },
  {
   "cell_type": "code",
   "execution_count": 72,
   "id": "favorite-swift",
   "metadata": {},
   "outputs": [
    {
     "data": {
      "text/plain": [
       "tensor([[1., 1.],\n",
       "        [1., 1.],\n",
       "        [1., 1.]])"
      ]
     },
     "execution_count": 72,
     "metadata": {},
     "output_type": "execute_result"
    }
   ],
   "source": [
    "tensor_ones = torch.ones(3, 2)\n",
    "tensor_ones"
   ]
  },
  {
   "cell_type": "code",
   "execution_count": 73,
   "id": "tracked-revolution",
   "metadata": {},
   "outputs": [
    {
     "name": "stdout",
     "output_type": "stream",
     "text": [
      "Type: torch.FloatTensor\n",
      "Shape/size: torch.Size([3, 2])\n",
      "Values: \n",
      "tensor([[1., 2.],\n",
      "        [1., 2.],\n",
      "        [1., 2.]])\n"
     ]
    }
   ],
   "source": [
    "tensor_ones[:, 1] += 1\n",
    "describe(tensor_ones)"
   ]
  },
  {
   "cell_type": "code",
   "execution_count": 83,
   "id": "chinese-victor",
   "metadata": {},
   "outputs": [
    {
     "name": "stdout",
     "output_type": "stream",
     "text": [
      "Type: torch.FloatTensor\n",
      "Shape/size: torch.Size([2, 2])\n",
      "Values: \n",
      "tensor([[ 3.,  6.],\n",
      "        [12., 24.]])\n"
     ]
    }
   ],
   "source": [
    "describe(torch.mm(tensor_view, tensor_ones))"
   ]
  },
  {
   "cell_type": "markdown",
   "id": "muslim-absorption",
   "metadata": {},
   "source": [
    "### Tensors and Computational Graphs"
   ]
  },
  {
   "cell_type": "markdown",
   "id": "studied-morris",
   "metadata": {},
   "source": [
    "#### Example 1-15. Creating tensors for gradient bookkeeping"
   ]
  },
  {
   "cell_type": "code",
   "execution_count": 116,
   "id": "otherwise-rescue",
   "metadata": {},
   "outputs": [
    {
     "name": "stdout",
     "output_type": "stream",
     "text": [
      "Type: torch.FloatTensor\n",
      "Shape/size: torch.Size([2, 2])\n",
      "Values: \n",
      "tensor([[1., 1.],\n",
      "        [1., 1.]], requires_grad=True)\n",
      "True\n"
     ]
    }
   ],
   "source": [
    "x = torch.ones(2, 2, requires_grad=True)\n",
    "describe(x)\n",
    "print(x.grad is None)"
   ]
  },
  {
   "cell_type": "code",
   "execution_count": 117,
   "id": "adjacent-forty",
   "metadata": {},
   "outputs": [
    {
     "data": {
      "text/plain": [
       "tensor([[21., 21.],\n",
       "        [21., 21.]], grad_fn=<AddBackward0>)"
      ]
     },
     "execution_count": 117,
     "metadata": {},
     "output_type": "execute_result"
    }
   ],
   "source": [
    "y = (x + 2) * (x + 5) + 3\n",
    "y"
   ]
  },
  {
   "cell_type": "code",
   "execution_count": 118,
   "id": "joint-status",
   "metadata": {},
   "outputs": [
    {
     "name": "stdout",
     "output_type": "stream",
     "text": [
      "Type: torch.FloatTensor\n",
      "Shape/size: torch.Size([2, 2])\n",
      "Values: \n",
      "tensor([[21., 21.],\n",
      "        [21., 21.]], grad_fn=<AddBackward0>)\n",
      "True\n"
     ]
    }
   ],
   "source": [
    "describe(y)\n",
    "print(x.grad is None)"
   ]
  },
  {
   "cell_type": "code",
   "execution_count": 119,
   "id": "broadband-lobby",
   "metadata": {},
   "outputs": [
    {
     "data": {
      "text/plain": [
       "tensor(21., grad_fn=<MeanBackward0>)"
      ]
     },
     "execution_count": 119,
     "metadata": {},
     "output_type": "execute_result"
    }
   ],
   "source": [
    "z = y.mean()\n",
    "z"
   ]
  },
  {
   "cell_type": "code",
   "execution_count": 120,
   "id": "shaped-complexity",
   "metadata": {},
   "outputs": [
    {
     "name": "stdout",
     "output_type": "stream",
     "text": [
      "Type: torch.FloatTensor\n",
      "Shape/size: torch.Size([])\n",
      "Values: \n",
      "21.0\n"
     ]
    }
   ],
   "source": [
    "describe(z)"
   ]
  },
  {
   "cell_type": "code",
   "execution_count": 121,
   "id": "enabling-forest",
   "metadata": {},
   "outputs": [
    {
     "name": "stdout",
     "output_type": "stream",
     "text": [
      "False\n"
     ]
    }
   ],
   "source": [
    "z.backward()\n",
    "print(x.grad is None)"
   ]
  },
  {
   "cell_type": "code",
   "execution_count": 122,
   "id": "military-constitutional",
   "metadata": {},
   "outputs": [
    {
     "data": {
      "text/plain": [
       "tensor([[2.2500, 2.2500],\n",
       "        [2.2500, 2.2500]])"
      ]
     },
     "execution_count": 122,
     "metadata": {},
     "output_type": "execute_result"
    }
   ],
   "source": [
    "x.grad"
   ]
  },
  {
   "cell_type": "markdown",
   "id": "virtual-tourist",
   "metadata": {},
   "source": [
    "### CUDA Tensors"
   ]
  },
  {
   "cell_type": "markdown",
   "id": "beginning-prince",
   "metadata": {},
   "source": [
    "#### Example 1-16. Creating CUDA tensors"
   ]
  },
  {
   "cell_type": "code",
   "execution_count": 127,
   "id": "overhead-referral",
   "metadata": {},
   "outputs": [
    {
     "data": {
      "text/plain": [
       "False"
      ]
     },
     "execution_count": 127,
     "metadata": {},
     "output_type": "execute_result"
    }
   ],
   "source": [
    "torch.cuda.is_available()"
   ]
  },
  {
   "cell_type": "code",
   "execution_count": 129,
   "id": "rental-upgrade",
   "metadata": {},
   "outputs": [
    {
     "name": "stdout",
     "output_type": "stream",
     "text": [
      "cpu\n"
     ]
    }
   ],
   "source": [
    "# preferred method: device agnostic tensor instantiation\n",
    "device = torch.device(\"cuda\" if torch.cuda.is_available() else \"cpu\")\n",
    "print(device)"
   ]
  },
  {
   "cell_type": "code",
   "execution_count": 130,
   "id": "alive-newspaper",
   "metadata": {},
   "outputs": [
    {
     "name": "stdout",
     "output_type": "stream",
     "text": [
      "Type: torch.FloatTensor\n",
      "Shape/size: torch.Size([3, 3])\n",
      "Values: \n",
      "tensor([[0.8588, 0.2312, 0.7193],\n",
      "        [0.8103, 0.4203, 0.1134],\n",
      "        [0.1065, 0.7809, 0.5885]])\n"
     ]
    }
   ],
   "source": [
    "x = torch.rand(3, 3).to(device)\n",
    "describe(x)"
   ]
  },
  {
   "cell_type": "markdown",
   "id": "adult-producer",
   "metadata": {},
   "source": [
    "#### Example 1-17. Mixing CUDA tensors with CPU-bound tensors"
   ]
  }
 ],
 "metadata": {
  "kernelspec": {
   "display_name": "Python 3",
   "language": "python",
   "name": "python3"
  },
  "language_info": {
   "codemirror_mode": {
    "name": "ipython",
    "version": 3
   },
   "file_extension": ".py",
   "mimetype": "text/x-python",
   "name": "python",
   "nbconvert_exporter": "python",
   "pygments_lexer": "ipython3",
   "version": "3.7.5"
  }
 },
 "nbformat": 4,
 "nbformat_minor": 5
}
