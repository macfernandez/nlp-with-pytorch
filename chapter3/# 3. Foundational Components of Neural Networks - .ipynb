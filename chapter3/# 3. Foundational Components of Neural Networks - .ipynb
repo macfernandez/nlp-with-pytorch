{
 "cells": [
  {
   "cell_type": "code",
   "execution_count": 2,
   "id": "exposed-material",
   "metadata": {},
   "outputs": [],
   "source": [
    "import torch\n",
    "import torch.nn as nn\n",
    "\n",
    "class Perceptron(nn.Module):\n",
    "    \"\"\" A perceptron is one linear layer \"\"\"\n",
    "    def __init__(self, input_dim):\n",
    "        \"\"\"\n",
    "        Args:\n",
    "            input_dim (int): size of the input features\n",
    "        \"\"\"\n",
    "        super(Perceptron, self).__init__()\n",
    "        self.fc1 = nn.Linear(input_dim, 1)\n",
    "       \n",
    "    def forward(self, x_in):\n",
    "        \"\"\"The forward pass of the perceptron\n",
    "        \n",
    "        Args:\n",
    "            x_in (torch.Tensor): an input data tensor \n",
    "                x_in.shape should be (batch, num_features)\n",
    "        Returns:“the resulting tensor. tensor.shape should be (batch,).\n",
    "        \"\"\"\n",
    "        return torch.sigmoid(self.fc1(x_in)).squeeze()"
   ]
  },
  {
   "cell_type": "code",
   "execution_count": null,
   "id": "boring-opening",
   "metadata": {},
   "outputs": [],
   "source": []
  }
 ],
 "metadata": {
  "kernelspec": {
   "display_name": "Python 3",
   "language": "python",
   "name": "python3"
  },
  "language_info": {
   "codemirror_mode": {
    "name": "ipython",
    "version": 3
   },
   "file_extension": ".py",
   "mimetype": "text/x-python",
   "name": "python",
   "nbconvert_exporter": "python",
   "pygments_lexer": "ipython3",
   "version": "3.9.2"
  }
 },
 "nbformat": 4,
 "nbformat_minor": 5
}
