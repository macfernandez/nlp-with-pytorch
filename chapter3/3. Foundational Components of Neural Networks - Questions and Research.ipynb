{
 "cells": [
  {
   "cell_type": "markdown",
   "id": "demonstrated-shareware",
   "metadata": {},
   "source": [
    "# 3. Foundational Components of Neural Networks "
   ]
  },
  {
   "cell_type": "markdown",
   "id": "solid-estate",
   "metadata": {},
   "source": [
    "### To solve:\n",
    "\t"
   ]
  },
  {
   "cell_type": "markdown",
   "id": "enhanced-station",
   "metadata": {},
   "source": [
    "### To research: "
   ]
  }
 ],
 "metadata": {
  "kernelspec": {
   "display_name": "Python 3",
   "language": "python",
   "name": "python3"
  },
  "language_info": {
   "codemirror_mode": {
    "name": "ipython",
    "version": 3
   },
   "file_extension": ".py",
   "mimetype": "text/x-python",
   "name": "python",
   "nbconvert_exporter": "python",
   "pygments_lexer": "ipython3",
   "version": "3.8.5"
  }
 },
 "nbformat": 4,
 "nbformat_minor": 5
}
